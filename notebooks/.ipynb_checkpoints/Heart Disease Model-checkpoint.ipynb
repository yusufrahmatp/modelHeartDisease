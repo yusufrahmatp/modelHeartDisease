{
 "cells": [
  {
   "cell_type": "markdown",
   "metadata": {},
   "source": [
    "# Heart Disease Model\n",
    "---\n",
    "13516062 - Yusuf Rahmat Pratama<br>\n",
    "13516<br>\n",
    "13516<br>\n",
    "13516<br>\n",
    "13516\n",
    "\n"
   ]
  },
  {
   "cell_type": "code",
   "execution_count": 39,
   "metadata": {},
   "outputs": [],
   "source": [
    "import pandas as pd\n",
    "import numpy as np"
   ]
  },
  {
   "cell_type": "markdown",
   "metadata": {},
   "source": [
    "## Data Preparation & Preprocessing\n",
    "---\n",
    "Training data for health disease is read using Pandas' `read_csv()` and `read_excel()` method, and is preprocessed as such to be ready to fit into the learning model.\n",
    "\n",
    "##### Data information\n",
    "The description file is read here. The file describes each of the data's attributes and their respective domains. From the description, it can be seen that for the attributes in Column 2, Column 3, Column 6, Column 7, Column 9, Column 11, Column 12, and Column 13 has a discrete value range, and discrete values for other attributes. Column 14 contains the label for the data, therefore the most suitable learning method is Supervised Learning."
   ]
  },
  {
   "cell_type": "code",
   "execution_count": 40,
   "metadata": {},
   "outputs": [
    {
     "data": {
      "text/html": [
       "<div>\n",
       "<style scoped>\n",
       "    .dataframe tbody tr th:only-of-type {\n",
       "        vertical-align: middle;\n",
       "    }\n",
       "\n",
       "    .dataframe tbody tr th {\n",
       "        vertical-align: top;\n",
       "    }\n",
       "\n",
       "    .dataframe thead th {\n",
       "        text-align: right;\n",
       "    }\n",
       "</style>\n",
       "<table border=\"1\" class=\"dataframe\">\n",
       "  <thead>\n",
       "    <tr style=\"text-align: right;\">\n",
       "      <th></th>\n",
       "      <th>Column #</th>\n",
       "      <th>description</th>\n",
       "      <th>note</th>\n",
       "      <th>Unnamed: 3</th>\n",
       "      <th>Unnamed: 4</th>\n",
       "      <th>Unnamed: 5</th>\n",
       "    </tr>\n",
       "  </thead>\n",
       "  <tbody>\n",
       "    <tr>\n",
       "      <th>0</th>\n",
       "      <td>1</td>\n",
       "      <td>age</td>\n",
       "      <td>years</td>\n",
       "      <td>-</td>\n",
       "      <td>-</td>\n",
       "      <td>-</td>\n",
       "    </tr>\n",
       "    <tr>\n",
       "      <th>1</th>\n",
       "      <td>2</td>\n",
       "      <td>sex</td>\n",
       "      <td>1 = male</td>\n",
       "      <td>0 = female</td>\n",
       "      <td>-</td>\n",
       "      <td>-</td>\n",
       "    </tr>\n",
       "    <tr>\n",
       "      <th>2</th>\n",
       "      <td>3</td>\n",
       "      <td>chest-pain type</td>\n",
       "      <td>1 = typical angina</td>\n",
       "      <td>2 = atypical angina</td>\n",
       "      <td>3 = non-anginal pain</td>\n",
       "      <td>4 = asymptotic</td>\n",
       "    </tr>\n",
       "    <tr>\n",
       "      <th>3</th>\n",
       "      <td>4</td>\n",
       "      <td>resting blood pressure</td>\n",
       "      <td>mmHg (on hospital admission)</td>\n",
       "      <td>-</td>\n",
       "      <td>-</td>\n",
       "      <td>-</td>\n",
       "    </tr>\n",
       "    <tr>\n",
       "      <th>4</th>\n",
       "      <td>5</td>\n",
       "      <td>serum cholestrol</td>\n",
       "      <td>mg/dl</td>\n",
       "      <td>-</td>\n",
       "      <td>-</td>\n",
       "      <td>-</td>\n",
       "    </tr>\n",
       "    <tr>\n",
       "      <th>5</th>\n",
       "      <td>6</td>\n",
       "      <td>fasting blood sugar &gt; 120 mg/dl</td>\n",
       "      <td>1 = true</td>\n",
       "      <td>0 = false</td>\n",
       "      <td>-</td>\n",
       "      <td>-</td>\n",
       "    </tr>\n",
       "    <tr>\n",
       "      <th>6</th>\n",
       "      <td>7</td>\n",
       "      <td>resting ECG</td>\n",
       "      <td>0 = normal</td>\n",
       "      <td>1 = having ST-T wave abnormality</td>\n",
       "      <td>2 = left ventricular hyperthrophy</td>\n",
       "      <td>-</td>\n",
       "    </tr>\n",
       "    <tr>\n",
       "      <th>7</th>\n",
       "      <td>8</td>\n",
       "      <td>max-heart rate achieved</td>\n",
       "      <td>-</td>\n",
       "      <td>-</td>\n",
       "      <td>-</td>\n",
       "      <td>-</td>\n",
       "    </tr>\n",
       "    <tr>\n",
       "      <th>8</th>\n",
       "      <td>9</td>\n",
       "      <td>exercise induced angina</td>\n",
       "      <td>1 = yes</td>\n",
       "      <td>0 = no</td>\n",
       "      <td>-</td>\n",
       "      <td>-</td>\n",
       "    </tr>\n",
       "    <tr>\n",
       "      <th>9</th>\n",
       "      <td>10</td>\n",
       "      <td>ST depression induced by exercise relative to ...</td>\n",
       "      <td>-</td>\n",
       "      <td>-</td>\n",
       "      <td>-</td>\n",
       "      <td>-</td>\n",
       "    </tr>\n",
       "    <tr>\n",
       "      <th>10</th>\n",
       "      <td>11</td>\n",
       "      <td>peak exercise ST segment</td>\n",
       "      <td>1 = upsloping</td>\n",
       "      <td>2 = flat</td>\n",
       "      <td>3 = downsloping</td>\n",
       "      <td>-</td>\n",
       "    </tr>\n",
       "    <tr>\n",
       "      <th>11</th>\n",
       "      <td>12</td>\n",
       "      <td>number of major vessels (0-3) colored by flour...</td>\n",
       "      <td>-</td>\n",
       "      <td>-</td>\n",
       "      <td>-</td>\n",
       "      <td>-</td>\n",
       "    </tr>\n",
       "    <tr>\n",
       "      <th>12</th>\n",
       "      <td>13</td>\n",
       "      <td>thal</td>\n",
       "      <td>3 = normal</td>\n",
       "      <td>6 = fixed defect</td>\n",
       "      <td>7 = reversable defect</td>\n",
       "      <td>-</td>\n",
       "    </tr>\n",
       "    <tr>\n",
       "      <th>13</th>\n",
       "      <td>14</td>\n",
       "      <td>diagnosis of heart disease/ angiographic disea...</td>\n",
       "      <td>0 = absence</td>\n",
       "      <td>1,2,3,4 = presence</td>\n",
       "      <td>-</td>\n",
       "      <td>-</td>\n",
       "    </tr>\n",
       "  </tbody>\n",
       "</table>\n",
       "</div>"
      ],
      "text/plain": [
       "    Column #                                        description  \\\n",
       "0          1                                                age   \n",
       "1          2                                                sex   \n",
       "2          3                                    chest-pain type   \n",
       "3          4                             resting blood pressure   \n",
       "4          5                                   serum cholestrol   \n",
       "5          6                    fasting blood sugar > 120 mg/dl   \n",
       "6          7                                        resting ECG   \n",
       "7          8                            max-heart rate achieved   \n",
       "8          9                            exercise induced angina   \n",
       "9         10  ST depression induced by exercise relative to ...   \n",
       "10        11                           peak exercise ST segment   \n",
       "11        12  number of major vessels (0-3) colored by flour...   \n",
       "12        13                                               thal   \n",
       "13        14  diagnosis of heart disease/ angiographic disea...   \n",
       "\n",
       "                            note                        Unnamed: 3  \\\n",
       "0                          years                                 -   \n",
       "1                       1 = male                        0 = female   \n",
       "2             1 = typical angina               2 = atypical angina   \n",
       "3   mmHg (on hospital admission)                                 -   \n",
       "4                          mg/dl                                 -   \n",
       "5                       1 = true                         0 = false   \n",
       "6                     0 = normal  1 = having ST-T wave abnormality   \n",
       "7                              -                                 -   \n",
       "8                        1 = yes                            0 = no   \n",
       "9                              -                                 -   \n",
       "10                 1 = upsloping                          2 = flat   \n",
       "11                             -                                 -   \n",
       "12                    3 = normal                  6 = fixed defect   \n",
       "13                   0 = absence                1,2,3,4 = presence   \n",
       "\n",
       "                           Unnamed: 4      Unnamed: 5  \n",
       "0                                   -               -  \n",
       "1                                   -               -  \n",
       "2                3 = non-anginal pain  4 = asymptotic  \n",
       "3                                   -               -  \n",
       "4                                   -               -  \n",
       "5                                   -               -  \n",
       "6   2 = left ventricular hyperthrophy               -  \n",
       "7                                   -               -  \n",
       "8                                   -               -  \n",
       "9                                   -               -  \n",
       "10                    3 = downsloping               -  \n",
       "11                                  -               -  \n",
       "12              7 = reversable defect               -  \n",
       "13                                  -               -  "
      ]
     },
     "execution_count": 40,
     "metadata": {},
     "output_type": "execute_result"
    }
   ],
   "source": [
    "data_info = pd.read_excel('../data/description.xlsx', header=1)\n",
    "data_info.fillna('-', inplace=True)\n",
    "data_info"
   ]
  },
  {
   "cell_type": "markdown",
   "metadata": {},
   "source": [
    "##### Load training data\n",
    "Training data are read and the data are split between data attributes and label. The resulting data read are 13 columns as attributes and 1 column as label. A total of 779 rows are read."
   ]
  },
  {
   "cell_type": "code",
   "execution_count": 41,
   "metadata": {},
   "outputs": [
    {
     "data": {
      "text/html": [
       "<div>\n",
       "<style scoped>\n",
       "    .dataframe tbody tr th:only-of-type {\n",
       "        vertical-align: middle;\n",
       "    }\n",
       "\n",
       "    .dataframe tbody tr th {\n",
       "        vertical-align: top;\n",
       "    }\n",
       "\n",
       "    .dataframe thead th {\n",
       "        text-align: right;\n",
       "    }\n",
       "</style>\n",
       "<table border=\"1\" class=\"dataframe\">\n",
       "  <thead>\n",
       "    <tr style=\"text-align: right;\">\n",
       "      <th></th>\n",
       "      <th>Column1</th>\n",
       "      <th>Column2</th>\n",
       "      <th>Column3</th>\n",
       "      <th>Column4</th>\n",
       "      <th>Column5</th>\n",
       "      <th>Column6</th>\n",
       "      <th>Column7</th>\n",
       "      <th>Column8</th>\n",
       "      <th>Column9</th>\n",
       "      <th>Column10</th>\n",
       "      <th>Column11</th>\n",
       "      <th>Column12</th>\n",
       "      <th>Column13</th>\n",
       "    </tr>\n",
       "  </thead>\n",
       "  <tbody>\n",
       "    <tr>\n",
       "      <th>0</th>\n",
       "      <td>54</td>\n",
       "      <td>1</td>\n",
       "      <td>4</td>\n",
       "      <td>125</td>\n",
       "      <td>216</td>\n",
       "      <td>0</td>\n",
       "      <td>0</td>\n",
       "      <td>140</td>\n",
       "      <td>0</td>\n",
       "      <td>0</td>\n",
       "      <td>?</td>\n",
       "      <td>?</td>\n",
       "      <td>?</td>\n",
       "    </tr>\n",
       "    <tr>\n",
       "      <th>1</th>\n",
       "      <td>55</td>\n",
       "      <td>1</td>\n",
       "      <td>4</td>\n",
       "      <td>158</td>\n",
       "      <td>217</td>\n",
       "      <td>0</td>\n",
       "      <td>0</td>\n",
       "      <td>110</td>\n",
       "      <td>1</td>\n",
       "      <td>2.5</td>\n",
       "      <td>2</td>\n",
       "      <td>?</td>\n",
       "      <td>?</td>\n",
       "    </tr>\n",
       "    <tr>\n",
       "      <th>2</th>\n",
       "      <td>54</td>\n",
       "      <td>0</td>\n",
       "      <td>3</td>\n",
       "      <td>135</td>\n",
       "      <td>304</td>\n",
       "      <td>1</td>\n",
       "      <td>0</td>\n",
       "      <td>170</td>\n",
       "      <td>0</td>\n",
       "      <td>0</td>\n",
       "      <td>1</td>\n",
       "      <td>0</td>\n",
       "      <td>3</td>\n",
       "    </tr>\n",
       "    <tr>\n",
       "      <th>3</th>\n",
       "      <td>48</td>\n",
       "      <td>0</td>\n",
       "      <td>3</td>\n",
       "      <td>120</td>\n",
       "      <td>195</td>\n",
       "      <td>0</td>\n",
       "      <td>0</td>\n",
       "      <td>125</td>\n",
       "      <td>0</td>\n",
       "      <td>0</td>\n",
       "      <td>?</td>\n",
       "      <td>?</td>\n",
       "      <td>?</td>\n",
       "    </tr>\n",
       "    <tr>\n",
       "      <th>4</th>\n",
       "      <td>50</td>\n",
       "      <td>1</td>\n",
       "      <td>4</td>\n",
       "      <td>120</td>\n",
       "      <td>0</td>\n",
       "      <td>0</td>\n",
       "      <td>1</td>\n",
       "      <td>156</td>\n",
       "      <td>1</td>\n",
       "      <td>0</td>\n",
       "      <td>1</td>\n",
       "      <td>?</td>\n",
       "      <td>6</td>\n",
       "    </tr>\n",
       "  </tbody>\n",
       "</table>\n",
       "</div>"
      ],
      "text/plain": [
       "   Column1  Column2  Column3 Column4 Column5 Column6 Column7 Column8 Column9  \\\n",
       "0       54        1        4     125     216       0       0     140       0   \n",
       "1       55        1        4     158     217       0       0     110       1   \n",
       "2       54        0        3     135     304       1       0     170       0   \n",
       "3       48        0        3     120     195       0       0     125       0   \n",
       "4       50        1        4     120       0       0       1     156       1   \n",
       "\n",
       "  Column10 Column11 Column12 Column13  \n",
       "0        0        ?        ?        ?  \n",
       "1      2.5        2        ?        ?  \n",
       "2        0        1        0        3  \n",
       "3        0        ?        ?        ?  \n",
       "4        0        1        ?        6  "
      ]
     },
     "execution_count": 41,
     "metadata": {},
     "output_type": "execute_result"
    }
   ],
   "source": [
    "train = pd.read_csv('../data/tubes2_HeartDisease_train.csv')\n",
    "train_data = train.iloc[:, :13]\n",
    "train_target = train.iloc[:, 13:]\n",
    "train_data.head()"
   ]
  },
  {
   "cell_type": "markdown",
   "metadata": {},
   "source": [
    "##### Preprocessing data\n",
    "The data are preprocessed here. Some data contain unknown value in some of their attributes, therefore needed to be processed. \n",
    "\n",
    "The string '?' that represents the unknown value is replaced with NaN to make data uniformly numeric, and all data are cast into float to process NaN as well (NaN is represented as float in Numpy). "
   ]
  },
  {
   "cell_type": "code",
   "execution_count": 42,
   "metadata": {},
   "outputs": [],
   "source": [
    "train_data = train_data.replace('?', np.nan).astype(float)"
   ]
  },
  {
   "cell_type": "markdown",
   "metadata": {},
   "source": [
    "For now, mean of each attributes is used to input value to the unknown-valued data for the free-discrete attributes, and mode of each attributes is used for the ranged discrete attributes."
   ]
  },
  {
   "cell_type": "code",
   "execution_count": 43,
   "metadata": {},
   "outputs": [
    {
     "data": {
      "text/html": [
       "<div>\n",
       "<style scoped>\n",
       "    .dataframe tbody tr th:only-of-type {\n",
       "        vertical-align: middle;\n",
       "    }\n",
       "\n",
       "    .dataframe tbody tr th {\n",
       "        vertical-align: top;\n",
       "    }\n",
       "\n",
       "    .dataframe thead th {\n",
       "        text-align: right;\n",
       "    }\n",
       "</style>\n",
       "<table border=\"1\" class=\"dataframe\">\n",
       "  <thead>\n",
       "    <tr style=\"text-align: right;\">\n",
       "      <th></th>\n",
       "      <th>Column1</th>\n",
       "      <th>Column2</th>\n",
       "      <th>Column3</th>\n",
       "      <th>Column4</th>\n",
       "      <th>Column5</th>\n",
       "      <th>Column6</th>\n",
       "      <th>Column7</th>\n",
       "      <th>Column8</th>\n",
       "      <th>Column9</th>\n",
       "      <th>Column10</th>\n",
       "      <th>Column11</th>\n",
       "      <th>Column12</th>\n",
       "      <th>Column13</th>\n",
       "    </tr>\n",
       "  </thead>\n",
       "  <tbody>\n",
       "    <tr>\n",
       "      <th>0</th>\n",
       "      <td>54.0</td>\n",
       "      <td>1.0</td>\n",
       "      <td>4.0</td>\n",
       "      <td>125.0</td>\n",
       "      <td>216.0</td>\n",
       "      <td>0.0</td>\n",
       "      <td>0.0</td>\n",
       "      <td>140.0</td>\n",
       "      <td>0.0</td>\n",
       "      <td>0.0</td>\n",
       "      <td>2.0</td>\n",
       "      <td>0.0</td>\n",
       "      <td>3.0</td>\n",
       "    </tr>\n",
       "    <tr>\n",
       "      <th>1</th>\n",
       "      <td>55.0</td>\n",
       "      <td>1.0</td>\n",
       "      <td>4.0</td>\n",
       "      <td>158.0</td>\n",
       "      <td>217.0</td>\n",
       "      <td>0.0</td>\n",
       "      <td>0.0</td>\n",
       "      <td>110.0</td>\n",
       "      <td>1.0</td>\n",
       "      <td>2.5</td>\n",
       "      <td>2.0</td>\n",
       "      <td>0.0</td>\n",
       "      <td>3.0</td>\n",
       "    </tr>\n",
       "    <tr>\n",
       "      <th>2</th>\n",
       "      <td>54.0</td>\n",
       "      <td>0.0</td>\n",
       "      <td>3.0</td>\n",
       "      <td>135.0</td>\n",
       "      <td>304.0</td>\n",
       "      <td>1.0</td>\n",
       "      <td>0.0</td>\n",
       "      <td>170.0</td>\n",
       "      <td>0.0</td>\n",
       "      <td>0.0</td>\n",
       "      <td>1.0</td>\n",
       "      <td>0.0</td>\n",
       "      <td>3.0</td>\n",
       "    </tr>\n",
       "    <tr>\n",
       "      <th>3</th>\n",
       "      <td>48.0</td>\n",
       "      <td>0.0</td>\n",
       "      <td>3.0</td>\n",
       "      <td>120.0</td>\n",
       "      <td>195.0</td>\n",
       "      <td>0.0</td>\n",
       "      <td>0.0</td>\n",
       "      <td>125.0</td>\n",
       "      <td>0.0</td>\n",
       "      <td>0.0</td>\n",
       "      <td>2.0</td>\n",
       "      <td>0.0</td>\n",
       "      <td>3.0</td>\n",
       "    </tr>\n",
       "    <tr>\n",
       "      <th>4</th>\n",
       "      <td>50.0</td>\n",
       "      <td>1.0</td>\n",
       "      <td>4.0</td>\n",
       "      <td>120.0</td>\n",
       "      <td>0.0</td>\n",
       "      <td>0.0</td>\n",
       "      <td>1.0</td>\n",
       "      <td>156.0</td>\n",
       "      <td>1.0</td>\n",
       "      <td>0.0</td>\n",
       "      <td>1.0</td>\n",
       "      <td>0.0</td>\n",
       "      <td>6.0</td>\n",
       "    </tr>\n",
       "  </tbody>\n",
       "</table>\n",
       "</div>"
      ],
      "text/plain": [
       "   Column1  Column2  Column3  Column4  Column5  Column6  Column7  Column8  \\\n",
       "0     54.0      1.0      4.0    125.0    216.0      0.0      0.0    140.0   \n",
       "1     55.0      1.0      4.0    158.0    217.0      0.0      0.0    110.0   \n",
       "2     54.0      0.0      3.0    135.0    304.0      1.0      0.0    170.0   \n",
       "3     48.0      0.0      3.0    120.0    195.0      0.0      0.0    125.0   \n",
       "4     50.0      1.0      4.0    120.0      0.0      0.0      1.0    156.0   \n",
       "\n",
       "   Column9  Column10  Column11  Column12  Column13  \n",
       "0      0.0       0.0       2.0       0.0       3.0  \n",
       "1      1.0       2.5       2.0       0.0       3.0  \n",
       "2      0.0       0.0       1.0       0.0       3.0  \n",
       "3      0.0       0.0       2.0       0.0       3.0  \n",
       "4      1.0       0.0       1.0       0.0       6.0  "
      ]
     },
     "execution_count": 43,
     "metadata": {},
     "output_type": "execute_result"
    }
   ],
   "source": [
    "mode_attributes = [\"Column2\", \"Column3\", \"Column6\", \"Column7\", \"Column9\", \"Column11\", \"Column12\",\"Column13\"]\n",
    "mean_attributes = [\"Column1\", \"Column4\", \"Column5\", \"Column8\", \"Column10\"]\n",
    "train_data[mode_attributes] = train_data[mode_attributes].fillna(train_data.mode().iloc[0])\n",
    "train_data[mean_attributes] = train_data[mean_attributes].fillna(train_data.mean())\n",
    "train_data.head()"
   ]
  },
  {
   "cell_type": "markdown",
   "metadata": {},
   "source": [
    "## Training Model\n",
    "---\n",
    "\n",
    "Here the training data is fitted into a model which will represent the hypothesis model of the learning method used. As the data is labelled discretely, classification models are suitable for the data. For this testing, we will use Native Bayesian, kNN (k-Nearest Neighbor), DTL (Decision Tree Learning), and MLP (Multi-layered Perceptron)."
   ]
  },
  {
   "cell_type": "code",
   "execution_count": 44,
   "metadata": {},
   "outputs": [],
   "source": [
    "from sklearn.naive_bayes import GaussianNB\n",
    "from sklearn import tree\n",
    "from sklearn.neighbors import KNeighborsClassifier\n",
    "from sklearn.neural_network import MLPClassifier\n",
    "from sklearn.model_selection import train_test_split\n",
    "from sklearn.metrics import confusion_matrix, accuracy_score, precision_score, recall_score\n",
    "from sklearn.base import clone\n",
    "from sklearn.model_selection import KFold\n",
    "import warnings\n",
    "\n",
    "warnings.filterwarnings('ignore')"
   ]
  },
  {
   "cell_type": "markdown",
   "metadata": {},
   "source": [
    "##### Training Procedure\n",
    "For training data and measuring the model prediction performance, we use **100-Fold Cross Validation** testing schema, in which the training data is iterated 100 times, with each iteration splitting the data as testing data and training data, fitting the model with the training data and checking the prediction with the testing data "
   ]
  },
  {
   "cell_type": "code",
   "execution_count": 57,
   "metadata": {},
   "outputs": [],
   "source": [
    "def prepare_and_execute_train_data(model, X, y, n_split=100):\n",
    "    kf = KFold(n_splits = n_split)\n",
    "    \n",
    "    curr_model = clone(model)\n",
    "    \n",
    "    curr_fold = 1\n",
    "    accuracy_scores = []\n",
    "    precision_scores = []\n",
    "    recall_scores = []\n",
    "    \n",
    "    for train_index, test_index in kf.split(X, y):\n",
    "        X_train = np.array(X.ix[train_index])\n",
    "        X_test = np.array(X.ix[test_index])\n",
    "        y_train = np.array(y.ix[train_index])\n",
    "        y_test = np.array(y.ix[test_index])\n",
    "        \n",
    "        curr_model.fit(X_train, y_train)\n",
    "        \n",
    "        curr_prediction = curr_model.predict(X_test)\n",
    "        \n",
    "        curr_accuracy = accuracy_score(y_test, curr_prediction)\n",
    "        curr_precision = precision_score(y_test, curr_prediction, average='macro')\n",
    "        curr_recall = recall_score(y_test, curr_prediction, average='macro')\n",
    "        \n",
    "#         print(\"Fold \", curr_fold)\n",
    "#         print('Prediction Performance: ')\n",
    "#         print('Accuracy:     ', curr_accuracy)\n",
    "#         print('Precision:    ', curr_precision)\n",
    "#         print('Recall:       ', curr_recall)\n",
    "#         print()\n",
    "        \n",
    "        accuracy_scores.append(curr_accuracy)\n",
    "        precision_scores.append(curr_precision)\n",
    "        recall_scores.append(curr_recall)\n",
    "        \n",
    "        curr_fold += 1\n",
    "    \n",
    "    print('\\nMean Prediction Peformance: ')\n",
    "    print('Mean Accuracy:     ', np.mean(accuracy_scores))\n",
    "    print('Mean Precision:    ', np.mean(precision_scores))\n",
    "    print('Mean Recall:       ', np.mean(recall_scores))\n",
    "    \n",
    "    model = curr_model"
   ]
  },
  {
   "cell_type": "markdown",
   "metadata": {},
   "source": [
    "##### Native Bayesian\n",
    "Here the Gaussian Native Bayesian Classifier is used to fit the learning model."
   ]
  },
  {
   "cell_type": "code",
   "execution_count": 58,
   "metadata": {},
   "outputs": [
    {
     "name": "stdout",
     "output_type": "stream",
     "text": [
      "\n",
      "Mean Prediction Peformance: \n",
      "Mean Accuracy:      0.5587500000000001\n",
      "Mean Precision:     0.3722416666666667\n",
      "Mean Recall:        0.40530912698412697\n"
     ]
    }
   ],
   "source": [
    "nb = GaussianNB()\n",
    "prepare_and_execute_train_data(nb, train_data, train_target, 100)"
   ]
  },
  {
   "cell_type": "markdown",
   "metadata": {},
   "source": [
    "##### Decision Tree Learning\n",
    "The Decision Tree Classifier model is used to fit the learning model."
   ]
  },
  {
   "cell_type": "code",
   "execution_count": 59,
   "metadata": {},
   "outputs": [
    {
     "name": "stdout",
     "output_type": "stream",
     "text": [
      "\n",
      "Mean Prediction Peformance: \n",
      "Mean Accuracy:      0.46875000000000006\n",
      "Mean Precision:     0.33538174603174603\n",
      "Mean Recall:        0.32289999999999996\n"
     ]
    }
   ],
   "source": [
    "dtc = tree.DecisionTreeClassifier()\n",
    "prepare_and_execute_train_data(dtc, train_data, train_target, 100)"
   ]
  },
  {
   "cell_type": "markdown",
   "metadata": {},
   "source": [
    "##### k-Nearest Neighbor\n",
    "The KNN Classifier is used to fit the learning model"
   ]
  },
  {
   "cell_type": "code",
   "execution_count": 60,
   "metadata": {},
   "outputs": [
    {
     "name": "stdout",
     "output_type": "stream",
     "text": [
      "\n",
      "Mean Prediction Peformance: \n",
      "Mean Accuracy:      0.4880357142857143\n",
      "Mean Precision:     0.313956746031746\n",
      "Mean Recall:        0.36215873015873024\n"
     ]
    }
   ],
   "source": [
    "knn = KNeighborsClassifier()\n",
    "prepare_and_execute_train_data(knn, train_data, train_target, 100)"
   ]
  },
  {
   "cell_type": "markdown",
   "metadata": {},
   "source": [
    "##### Multi-layered Perceptron\n",
    "Here the MLP Classifier is used to fit the learning model."
   ]
  },
  {
   "cell_type": "code",
   "execution_count": 61,
   "metadata": {},
   "outputs": [
    {
     "name": "stdout",
     "output_type": "stream",
     "text": [
      "\n",
      "Mean Prediction Peformance: \n",
      "Mean Accuracy:      0.5241071428571429\n",
      "Mean Precision:     0.3491214285714285\n",
      "Mean Recall:        0.379675\n"
     ]
    }
   ],
   "source": [
    "mlp = MLPClassifier(max_iter=1000)\n",
    "prepare_and_execute_train_data(mlp, train_data, train_target, 100)"
   ]
  },
  {
   "cell_type": "markdown",
   "metadata": {},
   "source": [
    "## Model Finalization and Export\n",
    "---\n",
    "The model with the best prediction performance is chosen and exported as a Sklearn model for use in predicting (classifying) test data."
   ]
  },
  {
   "cell_type": "code",
   "execution_count": 62,
   "metadata": {},
   "outputs": [],
   "source": [
    "from sklearn.externals import joblib"
   ]
  },
  {
   "cell_type": "markdown",
   "metadata": {},
   "source": [
    "##### Choose the best-scored model\n",
    "The model with the best prediction performance is finalized and ready to be exported here."
   ]
  },
  {
   "cell_type": "code",
   "execution_count": 65,
   "metadata": {},
   "outputs": [
    {
     "data": {
      "text/plain": [
       "[]"
      ]
     },
     "execution_count": 65,
     "metadata": {},
     "output_type": "execute_result"
    }
   ],
   "source": [
    "chosen_model = []\n",
    "chosen_model"
   ]
  },
  {
   "cell_type": "markdown",
   "metadata": {},
   "source": [
    "##### Export model to external file\n",
    "Here the finalized model is dumped into an external file using sklearn's joblib method. The exported model will be saved and can be used to predict the test data."
   ]
  },
  {
   "cell_type": "code",
   "execution_count": 69,
   "metadata": {},
   "outputs": [
    {
     "data": {
      "text/plain": [
       "['../models/heart_disease.joblib']"
      ]
     },
     "execution_count": 69,
     "metadata": {},
     "output_type": "execute_result"
    }
   ],
   "source": [
    "joblib.dump(chosen_model, '../models/heart_disease.joblib', compress=1)"
   ]
  },
  {
   "cell_type": "code",
   "execution_count": null,
   "metadata": {},
   "outputs": [],
   "source": []
  }
 ],
 "metadata": {
  "kernelspec": {
   "display_name": "Python 3",
   "language": "python",
   "name": "python3"
  },
  "language_info": {
   "codemirror_mode": {
    "name": "ipython",
    "version": 3
   },
   "file_extension": ".py",
   "mimetype": "text/x-python",
   "name": "python",
   "nbconvert_exporter": "python",
   "pygments_lexer": "ipython3",
   "version": "3.6.4"
  }
 },
 "nbformat": 4,
 "nbformat_minor": 2
}
