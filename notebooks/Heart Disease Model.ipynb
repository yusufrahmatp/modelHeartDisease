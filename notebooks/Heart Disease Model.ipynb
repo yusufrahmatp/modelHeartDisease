{
 "cells": [
  {
   "cell_type": "markdown",
   "metadata": {},
   "source": [
    "# Heart Disease Model\n",
    "---\n",
    "13516013 - Azka Nabilah Mumtaz <br>\n",
    "13516062 - Yusuf Rahmat Pratama<br>\n",
    "13516095 - Faza Fahleraz<br>\n",
    "13516101 - Kelvin Kristian<br>\n",
    "13516102 - Steven Sukma Limanus\n",
    "\n"
   ]
  },
  {
   "cell_type": "code",
   "execution_count": 55,
   "metadata": {},
   "outputs": [],
   "source": [
    "import pandas as pd\n",
    "import numpy as np"
   ]
  },
  {
   "cell_type": "markdown",
   "metadata": {},
   "source": [
    "## Data Preparation & Preprocessing\n",
    "---\n",
    "Training data for health disease is read using Pandas' `read_csv()` and `read_excel()` method, and is preprocessed as such to be ready to fit into the learning model.\n",
    "\n",
    "### Data information\n",
    "The description file is read here. The file describes each of the data's attributes and their respective domains. From the description, it can be seen that for the attributes in Column 2, Column 3, Column 6, Column 7, Column 9, Column 11, Column 12, and Column 13 has a discrete value range, and discrete values for other attributes. Column 14 contains the label for the data, therefore the most suitable learning method is Supervised Learning."
   ]
  },
  {
   "cell_type": "code",
   "execution_count": 56,
   "metadata": {},
   "outputs": [],
   "source": [
    "# data_info = pd.read_excel('../data/description.xlsx', header=1)\n",
    "# data_info.fillna('-', inplace=True)\n",
    "# data_info"
   ]
  },
  {
   "cell_type": "markdown",
   "metadata": {},
   "source": [
    "### Load data\n",
    "Training data are read and the data are split between features and labels. The resulting data read are 13 columns as attributes and 1 column as label. A total of 779 rows are read."
   ]
  },
  {
   "cell_type": "code",
   "execution_count": 146,
   "metadata": {},
   "outputs": [
    {
     "data": {
      "text/html": [
       "<div>\n",
       "<style scoped>\n",
       "    .dataframe tbody tr th:only-of-type {\n",
       "        vertical-align: middle;\n",
       "    }\n",
       "\n",
       "    .dataframe tbody tr th {\n",
       "        vertical-align: top;\n",
       "    }\n",
       "\n",
       "    .dataframe thead th {\n",
       "        text-align: right;\n",
       "    }\n",
       "</style>\n",
       "<table border=\"1\" class=\"dataframe\">\n",
       "  <thead>\n",
       "    <tr style=\"text-align: right;\">\n",
       "      <th></th>\n",
       "      <th>age</th>\n",
       "      <th>sex</th>\n",
       "      <th>chest_pain_type</th>\n",
       "      <th>rest_blood_pressure</th>\n",
       "      <th>serum_cholestrol</th>\n",
       "      <th>high_fasting_blood_sugar</th>\n",
       "      <th>resting_ecg</th>\n",
       "      <th>max_heart_rate</th>\n",
       "      <th>exercise_induced_angina</th>\n",
       "      <th>st_depression</th>\n",
       "      <th>peak_exercise_st</th>\n",
       "      <th>major_vessels_num</th>\n",
       "      <th>thal</th>\n",
       "    </tr>\n",
       "  </thead>\n",
       "  <tbody>\n",
       "    <tr>\n",
       "      <th>0</th>\n",
       "      <td>54</td>\n",
       "      <td>1</td>\n",
       "      <td>4</td>\n",
       "      <td>125</td>\n",
       "      <td>216</td>\n",
       "      <td>0</td>\n",
       "      <td>0</td>\n",
       "      <td>140</td>\n",
       "      <td>0</td>\n",
       "      <td>0</td>\n",
       "      <td>?</td>\n",
       "      <td>?</td>\n",
       "      <td>?</td>\n",
       "    </tr>\n",
       "    <tr>\n",
       "      <th>1</th>\n",
       "      <td>55</td>\n",
       "      <td>1</td>\n",
       "      <td>4</td>\n",
       "      <td>158</td>\n",
       "      <td>217</td>\n",
       "      <td>0</td>\n",
       "      <td>0</td>\n",
       "      <td>110</td>\n",
       "      <td>1</td>\n",
       "      <td>2.5</td>\n",
       "      <td>2</td>\n",
       "      <td>?</td>\n",
       "      <td>?</td>\n",
       "    </tr>\n",
       "    <tr>\n",
       "      <th>2</th>\n",
       "      <td>54</td>\n",
       "      <td>0</td>\n",
       "      <td>3</td>\n",
       "      <td>135</td>\n",
       "      <td>304</td>\n",
       "      <td>1</td>\n",
       "      <td>0</td>\n",
       "      <td>170</td>\n",
       "      <td>0</td>\n",
       "      <td>0</td>\n",
       "      <td>1</td>\n",
       "      <td>0</td>\n",
       "      <td>3</td>\n",
       "    </tr>\n",
       "    <tr>\n",
       "      <th>3</th>\n",
       "      <td>48</td>\n",
       "      <td>0</td>\n",
       "      <td>3</td>\n",
       "      <td>120</td>\n",
       "      <td>195</td>\n",
       "      <td>0</td>\n",
       "      <td>0</td>\n",
       "      <td>125</td>\n",
       "      <td>0</td>\n",
       "      <td>0</td>\n",
       "      <td>?</td>\n",
       "      <td>?</td>\n",
       "      <td>?</td>\n",
       "    </tr>\n",
       "    <tr>\n",
       "      <th>4</th>\n",
       "      <td>50</td>\n",
       "      <td>1</td>\n",
       "      <td>4</td>\n",
       "      <td>120</td>\n",
       "      <td>0</td>\n",
       "      <td>0</td>\n",
       "      <td>1</td>\n",
       "      <td>156</td>\n",
       "      <td>1</td>\n",
       "      <td>0</td>\n",
       "      <td>1</td>\n",
       "      <td>?</td>\n",
       "      <td>6</td>\n",
       "    </tr>\n",
       "  </tbody>\n",
       "</table>\n",
       "</div>"
      ],
      "text/plain": [
       "   age  sex  chest_pain_type rest_blood_pressure serum_cholestrol  \\\n",
       "0   54    1                4                 125              216   \n",
       "1   55    1                4                 158              217   \n",
       "2   54    0                3                 135              304   \n",
       "3   48    0                3                 120              195   \n",
       "4   50    1                4                 120                0   \n",
       "\n",
       "  high_fasting_blood_sugar resting_ecg max_heart_rate exercise_induced_angina  \\\n",
       "0                        0           0            140                       0   \n",
       "1                        0           0            110                       1   \n",
       "2                        1           0            170                       0   \n",
       "3                        0           0            125                       0   \n",
       "4                        0           1            156                       1   \n",
       "\n",
       "  st_depression peak_exercise_st major_vessels_num thal  \n",
       "0             0                ?                 ?    ?  \n",
       "1           2.5                2                 ?    ?  \n",
       "2             0                1                 0    3  \n",
       "3             0                ?                 ?    ?  \n",
       "4             0                1                 ?    6  "
      ]
     },
     "execution_count": 146,
     "metadata": {},
     "output_type": "execute_result"
    }
   ],
   "source": [
    "train = pd.read_csv('../data/tubes2_HeartDisease_train.csv')\n",
    "train.columns = ['age', 'sex', 'chest_pain_type', 'rest_blood_pressure', 'serum_cholestrol', \n",
    "                 'high_fasting_blood_sugar', 'resting_ecg', 'max_heart_rate', 'exercise_induced_angina',\n",
    "                 'st_depression', 'peak_exercise_st', 'major_vessels_num', 'thal', 'diagnosis']\n",
    "train_x = train.iloc[:, :13]\n",
    "train_y = train.iloc[:, 13:]\n",
    "\n",
    "train_x.head()"
   ]
  },
  {
   "cell_type": "markdown",
   "metadata": {},
   "source": [
    "### Preprocessing\n",
    "\n",
    "#### Handle missing values\n",
    "Some data contain unknown value in some of their attributes, therefore needed to be processed. \n",
    "\n",
    "The string '?' that represents the unknown value is replaced with NaN to make data uniformly numeric, and all data are cast into float to process NaN as well (NaN is represented as float in Numpy). "
   ]
  },
  {
   "cell_type": "code",
   "execution_count": 147,
   "metadata": {},
   "outputs": [],
   "source": [
    "train_x = train_x.replace('?', np.nan).astype(float)"
   ]
  },
  {
   "cell_type": "markdown",
   "metadata": {},
   "source": [
    "For now, mean of each attributes is used to input value to the unknown-valued data for the free-discrete attributes, and mode of each attributes is used for the ranged discrete attributes."
   ]
  },
  {
   "cell_type": "code",
   "execution_count": 148,
   "metadata": {},
   "outputs": [
    {
     "data": {
      "text/html": [
       "<div>\n",
       "<style scoped>\n",
       "    .dataframe tbody tr th:only-of-type {\n",
       "        vertical-align: middle;\n",
       "    }\n",
       "\n",
       "    .dataframe tbody tr th {\n",
       "        vertical-align: top;\n",
       "    }\n",
       "\n",
       "    .dataframe thead th {\n",
       "        text-align: right;\n",
       "    }\n",
       "</style>\n",
       "<table border=\"1\" class=\"dataframe\">\n",
       "  <thead>\n",
       "    <tr style=\"text-align: right;\">\n",
       "      <th></th>\n",
       "      <th>age</th>\n",
       "      <th>sex</th>\n",
       "      <th>chest_pain_type</th>\n",
       "      <th>rest_blood_pressure</th>\n",
       "      <th>serum_cholestrol</th>\n",
       "      <th>high_fasting_blood_sugar</th>\n",
       "      <th>resting_ecg</th>\n",
       "      <th>max_heart_rate</th>\n",
       "      <th>exercise_induced_angina</th>\n",
       "      <th>st_depression</th>\n",
       "      <th>peak_exercise_st</th>\n",
       "      <th>major_vessels_num</th>\n",
       "      <th>thal</th>\n",
       "    </tr>\n",
       "  </thead>\n",
       "  <tbody>\n",
       "    <tr>\n",
       "      <th>0</th>\n",
       "      <td>54.0</td>\n",
       "      <td>1.0</td>\n",
       "      <td>4.0</td>\n",
       "      <td>125.0</td>\n",
       "      <td>216.0</td>\n",
       "      <td>0.0</td>\n",
       "      <td>0.0</td>\n",
       "      <td>140.0</td>\n",
       "      <td>0.0</td>\n",
       "      <td>0.0</td>\n",
       "      <td>2.0</td>\n",
       "      <td>0.0</td>\n",
       "      <td>3.0</td>\n",
       "    </tr>\n",
       "    <tr>\n",
       "      <th>1</th>\n",
       "      <td>55.0</td>\n",
       "      <td>1.0</td>\n",
       "      <td>4.0</td>\n",
       "      <td>158.0</td>\n",
       "      <td>217.0</td>\n",
       "      <td>0.0</td>\n",
       "      <td>0.0</td>\n",
       "      <td>110.0</td>\n",
       "      <td>1.0</td>\n",
       "      <td>2.5</td>\n",
       "      <td>2.0</td>\n",
       "      <td>0.0</td>\n",
       "      <td>3.0</td>\n",
       "    </tr>\n",
       "    <tr>\n",
       "      <th>2</th>\n",
       "      <td>54.0</td>\n",
       "      <td>0.0</td>\n",
       "      <td>3.0</td>\n",
       "      <td>135.0</td>\n",
       "      <td>304.0</td>\n",
       "      <td>1.0</td>\n",
       "      <td>0.0</td>\n",
       "      <td>170.0</td>\n",
       "      <td>0.0</td>\n",
       "      <td>0.0</td>\n",
       "      <td>1.0</td>\n",
       "      <td>0.0</td>\n",
       "      <td>3.0</td>\n",
       "    </tr>\n",
       "    <tr>\n",
       "      <th>3</th>\n",
       "      <td>48.0</td>\n",
       "      <td>0.0</td>\n",
       "      <td>3.0</td>\n",
       "      <td>120.0</td>\n",
       "      <td>195.0</td>\n",
       "      <td>0.0</td>\n",
       "      <td>0.0</td>\n",
       "      <td>125.0</td>\n",
       "      <td>0.0</td>\n",
       "      <td>0.0</td>\n",
       "      <td>2.0</td>\n",
       "      <td>0.0</td>\n",
       "      <td>3.0</td>\n",
       "    </tr>\n",
       "    <tr>\n",
       "      <th>4</th>\n",
       "      <td>50.0</td>\n",
       "      <td>1.0</td>\n",
       "      <td>4.0</td>\n",
       "      <td>120.0</td>\n",
       "      <td>0.0</td>\n",
       "      <td>0.0</td>\n",
       "      <td>1.0</td>\n",
       "      <td>156.0</td>\n",
       "      <td>1.0</td>\n",
       "      <td>0.0</td>\n",
       "      <td>1.0</td>\n",
       "      <td>0.0</td>\n",
       "      <td>6.0</td>\n",
       "    </tr>\n",
       "  </tbody>\n",
       "</table>\n",
       "</div>"
      ],
      "text/plain": [
       "    age  sex chest_pain_type  rest_blood_pressure  serum_cholestrol  \\\n",
       "0  54.0  1.0             4.0                125.0             216.0   \n",
       "1  55.0  1.0             4.0                158.0             217.0   \n",
       "2  54.0  0.0             3.0                135.0             304.0   \n",
       "3  48.0  0.0             3.0                120.0             195.0   \n",
       "4  50.0  1.0             4.0                120.0               0.0   \n",
       "\n",
       "  high_fasting_blood_sugar resting_ecg  max_heart_rate  \\\n",
       "0                      0.0         0.0           140.0   \n",
       "1                      0.0         0.0           110.0   \n",
       "2                      1.0         0.0           170.0   \n",
       "3                      0.0         0.0           125.0   \n",
       "4                      0.0         1.0           156.0   \n",
       "\n",
       "  exercise_induced_angina  st_depression peak_exercise_st major_vessels_num  \\\n",
       "0                     0.0            0.0              2.0               0.0   \n",
       "1                     1.0            2.5              2.0               0.0   \n",
       "2                     0.0            0.0              1.0               0.0   \n",
       "3                     0.0            0.0              2.0               0.0   \n",
       "4                     1.0            0.0              1.0               0.0   \n",
       "\n",
       "  thal  \n",
       "0  3.0  \n",
       "1  3.0  \n",
       "2  3.0  \n",
       "3  3.0  \n",
       "4  6.0  "
      ]
     },
     "execution_count": 148,
     "metadata": {},
     "output_type": "execute_result"
    }
   ],
   "source": [
    "categorical_attributes = [\"sex\", \"chest_pain_type\", \"high_fasting_blood_sugar\", \"resting_ecg\", \"exercise_induced_angina\", \"peak_exercise_st\", \"major_vessels_num\", \"thal\"]\n",
    "series_attributes = [\"age\", \"rest_blood_pressure\", \"serum_cholestrol\", \"max_heart_rate\", \"st_depression\"]\n",
    "\n",
    "train_x[categorical_attributes] = train_x[categorical_attributes].fillna(train_x.mode().iloc[0])\n",
    "train_x[series_attributes] = train_x[series_attributes].fillna(train_x.mean())\n",
    "train_x[categorical_attributes] = train_x[categorical_attributes].astype('category')\n",
    "\n",
    "train_x_original = train_x.copy()\n",
    "train_y_original = train_y.copy()\n",
    "\n",
    "train_x.head()"
   ]
  },
  {
   "cell_type": "markdown",
   "metadata": {},
   "source": [
    "#### (UNUSED) Drop columns with lots of missing values\n",
    "\n",
    "Feature columns with a high number of missing values are dropped to ease the model's learning."
   ]
  },
  {
   "cell_type": "code",
   "execution_count": 145,
   "metadata": {},
   "outputs": [],
   "source": [
    "# train_x = train_x.drop('thal', 1)\n",
    "# train_x = train_x.drop('major_vessels_num', 1)\n",
    "\n",
    "# train_x.head()"
   ]
  },
  {
   "cell_type": "markdown",
   "metadata": {},
   "source": [
    "#### Use One-Hot Encoding for Categorical Data"
   ]
  },
  {
   "cell_type": "code",
   "execution_count": 149,
   "metadata": {},
   "outputs": [
    {
     "data": {
      "text/html": [
       "<div>\n",
       "<style scoped>\n",
       "    .dataframe tbody tr th:only-of-type {\n",
       "        vertical-align: middle;\n",
       "    }\n",
       "\n",
       "    .dataframe tbody tr th {\n",
       "        vertical-align: top;\n",
       "    }\n",
       "\n",
       "    .dataframe thead th {\n",
       "        text-align: right;\n",
       "    }\n",
       "</style>\n",
       "<table border=\"1\" class=\"dataframe\">\n",
       "  <thead>\n",
       "    <tr style=\"text-align: right;\">\n",
       "      <th></th>\n",
       "      <th>age</th>\n",
       "      <th>rest_blood_pressure</th>\n",
       "      <th>serum_cholestrol</th>\n",
       "      <th>max_heart_rate</th>\n",
       "      <th>st_depression</th>\n",
       "      <th>sex_0.0</th>\n",
       "      <th>sex_1.0</th>\n",
       "      <th>chest_pain_type_1.0</th>\n",
       "      <th>chest_pain_type_2.0</th>\n",
       "      <th>chest_pain_type_3.0</th>\n",
       "      <th>...</th>\n",
       "      <th>peak_exercise_st_2.0</th>\n",
       "      <th>peak_exercise_st_3.0</th>\n",
       "      <th>major_vessels_num_0.0</th>\n",
       "      <th>major_vessels_num_1.0</th>\n",
       "      <th>major_vessels_num_2.0</th>\n",
       "      <th>major_vessels_num_3.0</th>\n",
       "      <th>thal_3.0</th>\n",
       "      <th>thal_6.0</th>\n",
       "      <th>thal_7.0</th>\n",
       "      <th>serum_cholestrol_0</th>\n",
       "    </tr>\n",
       "  </thead>\n",
       "  <tbody>\n",
       "    <tr>\n",
       "      <th>0</th>\n",
       "      <td>54.0</td>\n",
       "      <td>125.0</td>\n",
       "      <td>216.0</td>\n",
       "      <td>140.0</td>\n",
       "      <td>0.0</td>\n",
       "      <td>0</td>\n",
       "      <td>1</td>\n",
       "      <td>0</td>\n",
       "      <td>0</td>\n",
       "      <td>0</td>\n",
       "      <td>...</td>\n",
       "      <td>1</td>\n",
       "      <td>0</td>\n",
       "      <td>1</td>\n",
       "      <td>0</td>\n",
       "      <td>0</td>\n",
       "      <td>0</td>\n",
       "      <td>1</td>\n",
       "      <td>0</td>\n",
       "      <td>0</td>\n",
       "      <td>0</td>\n",
       "    </tr>\n",
       "    <tr>\n",
       "      <th>1</th>\n",
       "      <td>55.0</td>\n",
       "      <td>158.0</td>\n",
       "      <td>217.0</td>\n",
       "      <td>110.0</td>\n",
       "      <td>2.5</td>\n",
       "      <td>0</td>\n",
       "      <td>1</td>\n",
       "      <td>0</td>\n",
       "      <td>0</td>\n",
       "      <td>0</td>\n",
       "      <td>...</td>\n",
       "      <td>1</td>\n",
       "      <td>0</td>\n",
       "      <td>1</td>\n",
       "      <td>0</td>\n",
       "      <td>0</td>\n",
       "      <td>0</td>\n",
       "      <td>1</td>\n",
       "      <td>0</td>\n",
       "      <td>0</td>\n",
       "      <td>0</td>\n",
       "    </tr>\n",
       "    <tr>\n",
       "      <th>2</th>\n",
       "      <td>54.0</td>\n",
       "      <td>135.0</td>\n",
       "      <td>304.0</td>\n",
       "      <td>170.0</td>\n",
       "      <td>0.0</td>\n",
       "      <td>1</td>\n",
       "      <td>0</td>\n",
       "      <td>0</td>\n",
       "      <td>0</td>\n",
       "      <td>1</td>\n",
       "      <td>...</td>\n",
       "      <td>0</td>\n",
       "      <td>0</td>\n",
       "      <td>1</td>\n",
       "      <td>0</td>\n",
       "      <td>0</td>\n",
       "      <td>0</td>\n",
       "      <td>1</td>\n",
       "      <td>0</td>\n",
       "      <td>0</td>\n",
       "      <td>0</td>\n",
       "    </tr>\n",
       "    <tr>\n",
       "      <th>3</th>\n",
       "      <td>48.0</td>\n",
       "      <td>120.0</td>\n",
       "      <td>195.0</td>\n",
       "      <td>125.0</td>\n",
       "      <td>0.0</td>\n",
       "      <td>1</td>\n",
       "      <td>0</td>\n",
       "      <td>0</td>\n",
       "      <td>0</td>\n",
       "      <td>1</td>\n",
       "      <td>...</td>\n",
       "      <td>1</td>\n",
       "      <td>0</td>\n",
       "      <td>1</td>\n",
       "      <td>0</td>\n",
       "      <td>0</td>\n",
       "      <td>0</td>\n",
       "      <td>1</td>\n",
       "      <td>0</td>\n",
       "      <td>0</td>\n",
       "      <td>0</td>\n",
       "    </tr>\n",
       "    <tr>\n",
       "      <th>4</th>\n",
       "      <td>50.0</td>\n",
       "      <td>120.0</td>\n",
       "      <td>0.0</td>\n",
       "      <td>156.0</td>\n",
       "      <td>0.0</td>\n",
       "      <td>0</td>\n",
       "      <td>1</td>\n",
       "      <td>0</td>\n",
       "      <td>0</td>\n",
       "      <td>0</td>\n",
       "      <td>...</td>\n",
       "      <td>0</td>\n",
       "      <td>0</td>\n",
       "      <td>1</td>\n",
       "      <td>0</td>\n",
       "      <td>0</td>\n",
       "      <td>0</td>\n",
       "      <td>0</td>\n",
       "      <td>1</td>\n",
       "      <td>0</td>\n",
       "      <td>1</td>\n",
       "    </tr>\n",
       "  </tbody>\n",
       "</table>\n",
       "<p>5 rows × 29 columns</p>\n",
       "</div>"
      ],
      "text/plain": [
       "    age  rest_blood_pressure  serum_cholestrol  max_heart_rate  st_depression  \\\n",
       "0  54.0                125.0             216.0           140.0            0.0   \n",
       "1  55.0                158.0             217.0           110.0            2.5   \n",
       "2  54.0                135.0             304.0           170.0            0.0   \n",
       "3  48.0                120.0             195.0           125.0            0.0   \n",
       "4  50.0                120.0               0.0           156.0            0.0   \n",
       "\n",
       "   sex_0.0  sex_1.0  chest_pain_type_1.0  chest_pain_type_2.0  \\\n",
       "0        0        1                    0                    0   \n",
       "1        0        1                    0                    0   \n",
       "2        1        0                    0                    0   \n",
       "3        1        0                    0                    0   \n",
       "4        0        1                    0                    0   \n",
       "\n",
       "   chest_pain_type_3.0         ...          peak_exercise_st_2.0  \\\n",
       "0                    0         ...                             1   \n",
       "1                    0         ...                             1   \n",
       "2                    1         ...                             0   \n",
       "3                    1         ...                             1   \n",
       "4                    0         ...                             0   \n",
       "\n",
       "   peak_exercise_st_3.0  major_vessels_num_0.0  major_vessels_num_1.0  \\\n",
       "0                     0                      1                      0   \n",
       "1                     0                      1                      0   \n",
       "2                     0                      1                      0   \n",
       "3                     0                      1                      0   \n",
       "4                     0                      1                      0   \n",
       "\n",
       "   major_vessels_num_2.0  major_vessels_num_3.0  thal_3.0  thal_6.0  thal_7.0  \\\n",
       "0                      0                      0         1         0         0   \n",
       "1                      0                      0         1         0         0   \n",
       "2                      0                      0         1         0         0   \n",
       "3                      0                      0         1         0         0   \n",
       "4                      0                      0         0         1         0   \n",
       "\n",
       "   serum_cholestrol_0  \n",
       "0                   0  \n",
       "1                   0  \n",
       "2                   0  \n",
       "3                   0  \n",
       "4                   1  \n",
       "\n",
       "[5 rows x 29 columns]"
      ]
     },
     "execution_count": 149,
     "metadata": {},
     "output_type": "execute_result"
    }
   ],
   "source": [
    "# train_x = pd.get_dummies(train_x, prefix=[\n",
    "#     \"sex\", \"chest_pain_type\", \"high_fasting_blood_sugar\", \"resting_ecg\", \n",
    "#     \"exercise_induced_angina\", \"peak_exercise_st\"])\n",
    "\n",
    "train_x = pd.get_dummies(train_x, prefix=[\n",
    "    \"sex\", \"chest_pain_type\", \"high_fasting_blood_sugar\", \"resting_ecg\", \n",
    "    \"exercise_induced_angina\", \"peak_exercise_st\", \"major_vessels_num\", \"thal\"])\n",
    "\n",
    "train_x = train_x.assign(serum_cholestrol_0 = np.select([train_x['serum_cholestrol'] == 0], [1], default=0))\n",
    "\n",
    "train_x.head()"
   ]
  },
  {
   "cell_type": "markdown",
   "metadata": {},
   "source": [
    "#### Oversampling Procedure\n",
    "\n",
    "Artificially increase the number of minority data by duplicating rows to get a more balanced dataset."
   ]
  },
  {
   "cell_type": "code",
   "execution_count": 150,
   "metadata": {},
   "outputs": [],
   "source": [
    "def oversample_label(train_x, train_y):\n",
    "    diag_2 = train_y['diagnosis'] == 2\n",
    "    train_x_diag_2 = train_x[diag_2]\n",
    "    train_y_diag_2 = train_y[diag_2]\n",
    "    train_x_oversampled = train_x.append([train_x_diag_2] * 2, ignore_index=True)\n",
    "    train_y_oversampled = train_y.append([train_y_diag_2] * 2, ignore_index=True)\n",
    "\n",
    "    diag_3 = train_y['diagnosis'] == 3\n",
    "    train_x_diag_3 = train_x[diag_3]\n",
    "    train_y_diag_3 = train_y[diag_3]\n",
    "    train_x_oversampled = train_x_oversampled.append([train_x_diag_3] * 2, ignore_index=True)\n",
    "    train_y_oversampled = train_y_oversampled.append([train_y_diag_3] * 2, ignore_index=True)\n",
    "\n",
    "    diag_4 = train_y['diagnosis'] == 4\n",
    "    train_x_diag_4 = train_x[diag_4]\n",
    "    train_y_diag_4 = train_y[diag_4]\n",
    "    train_x_oversampled = train_x.append([train_x_diag_4] * 3, ignore_index=True)\n",
    "    train_y_oversampled = train_y.append([train_y_diag_4] * 3, ignore_index=True)\n",
    "\n",
    "    assert(train_x_oversampled.count()[0] == train_y_oversampled.count()[0])\n",
    "\n",
    "    train_x_preprocessed = train_x_oversampled.copy()\n",
    "    train_y_preprocessed = train_y_oversampled.copy()\n",
    "    return train_x_preprocessed, train_y_preprocessed\n",
    "\n",
    "# train_x_preprocessed = train_x.copy()\n",
    "# train_y_preprocessed = train_y.copy()"
   ]
  },
  {
   "cell_type": "markdown",
   "metadata": {},
   "source": [
    "## Training Model\n",
    "---\n",
    "\n",
    "Here the training data is fitted into a model which will represent the hypothesis model of the learning method used. As the data is labelled discretely, classification models are suitable for the data. For this testing, we will use Native Bayesian, kNN (k-Nearest Neighbor), DTL (Decision Tree Learning), and MLP (Multi-layered Perceptron)."
   ]
  },
  {
   "cell_type": "code",
   "execution_count": 151,
   "metadata": {},
   "outputs": [],
   "source": [
    "import itertools\n",
    "import warnings\n",
    "import matplotlib.pyplot as plt\n",
    "\n",
    "from sklearn.naive_bayes import GaussianNB\n",
    "from sklearn import tree\n",
    "from sklearn.neighbors import KNeighborsClassifier\n",
    "from sklearn.neural_network import MLPClassifier\n",
    "from sklearn.model_selection import train_test_split\n",
    "from sklearn.metrics import confusion_matrix, accuracy_score, precision_score, recall_score\n",
    "from sklearn.base import clone\n",
    "from sklearn.model_selection import KFold\n",
    "\n",
    "warnings.filterwarnings('ignore')"
   ]
  },
  {
   "cell_type": "markdown",
   "metadata": {},
   "source": [
    "### Helpers"
   ]
  },
  {
   "cell_type": "code",
   "execution_count": 152,
   "metadata": {},
   "outputs": [],
   "source": [
    "def plot_confusion_matrix(cm, classes,\n",
    "                          normalize=False,\n",
    "                          title='Confusion matrix',\n",
    "                          cmap=plt.cm.Blues):\n",
    "    \"\"\"\n",
    "    This function prints and plots the confusion matrix.\n",
    "    Normalization can be applied by setting `normalize=True`.\n",
    "    \"\"\"\n",
    "    if normalize:\n",
    "        cm = cm.astype('float') / cm.sum(axis=1)[:, np.newaxis]\n",
    "\n",
    "    plt.imshow(cm, interpolation='nearest', cmap=cmap)\n",
    "    plt.title(title)\n",
    "    plt.colorbar()\n",
    "    tick_marks = np.arange(len(classes))\n",
    "    plt.xticks(tick_marks, classes, rotation=45)\n",
    "    plt.yticks(tick_marks, classes)\n",
    "\n",
    "    fmt = '.2f' if normalize else 'd'\n",
    "    thresh = cm.max() / 2.\n",
    "    for i, j in itertools.product(range(cm.shape[0]), range(cm.shape[1])):\n",
    "        plt.text(j, i, format(cm[i, j], fmt),\n",
    "                 horizontalalignment=\"center\",\n",
    "                 color=\"white\" if cm[i, j] > thresh else \"black\")\n",
    "\n",
    "    plt.ylabel('True label')\n",
    "    plt.xlabel('Predicted label')\n",
    "    plt.tight_layout()"
   ]
  },
  {
   "cell_type": "markdown",
   "metadata": {},
   "source": [
    "### Training Procedure\n",
    "For training data and measuring the model prediction performance, we use **100-Fold Cross Validation** testing schema, in which the training data is iterated 100 times, with each iteration splitting the data as testing data and training data, fitting the model with the training data and checking the prediction with the testing data "
   ]
  },
  {
   "cell_type": "code",
   "execution_count": 153,
   "metadata": {},
   "outputs": [],
   "source": [
    "def prepare_and_execute_train_data(model, X, y, n_split=100):\n",
    "    kf = KFold(n_splits = n_split)\n",
    "    \n",
    "    curr_model = clone(model)\n",
    "    \n",
    "    curr_fold = 1\n",
    "    accuracy_scores = []\n",
    "    precision_scores = []\n",
    "    recall_scores = []\n",
    "    total_confusion_matrix = None\n",
    "    \n",
    "    for train_index, test_index in kf.split(X, y):\n",
    "        X_train, y_train = oversample_label(X.ix[train_index], y.ix[train_index])\n",
    "        X_test, y_test = oversample_label(X.ix[test_index], y.ix[test_index])\n",
    "        X_train = np.array(X_train)\n",
    "        X_test = np.array(X_test)\n",
    "        y_train = np.array(y_train)\n",
    "        y_test = np.array(y_test)\n",
    "#         X_train = np.array(X.ix[train_index])\n",
    "#         X_test = np.array(X.ix[test_index])\n",
    "#         y_train = np.array(y.ix[train_index])\n",
    "#         y_test = np.array(y.ix[test_index])\n",
    "        \n",
    "        curr_model.fit(X_train, y_train)\n",
    "        \n",
    "        curr_prediction = curr_model.predict(X_test)\n",
    "        \n",
    "        curr_accuracy = accuracy_score(y_test, curr_prediction)\n",
    "        curr_precision = precision_score(y_test, curr_prediction, average='macro')\n",
    "        curr_recall = recall_score(y_test, curr_prediction, average='macro')\n",
    "        \n",
    "        if total_confusion_matrix is not None:\n",
    "            total_confusion_matrix += confusion_matrix(y_test, curr_prediction)\n",
    "        else:\n",
    "            total_confusion_matrix = confusion_matrix(y_test, curr_prediction)\n",
    "        \n",
    "        accuracy_scores.append(curr_accuracy)\n",
    "        precision_scores.append(curr_precision)\n",
    "        recall_scores.append(curr_recall)\n",
    "        \n",
    "        curr_fold += 1\n",
    "    \n",
    "    print('\\nMean Prediction Peformance: ')\n",
    "    print('Mean Accuracy:     ', np.mean(accuracy_scores))\n",
    "    print('Mean Precision:    ', np.mean(precision_scores))\n",
    "    print('Mean Recall:       ', np.mean(recall_scores))\n",
    "    plt.figure()\n",
    "    plot_confusion_matrix(total_confusion_matrix, classes=[0, 1, 2, 3, 4], normalize=True,\n",
    "            title='Normalized confusion matrix')\n",
    "    \n",
    "    model = curr_model"
   ]
  },
  {
   "cell_type": "markdown",
   "metadata": {},
   "source": [
    "##### Native Bayesian\n",
    "Here the Gaussian Native Bayesian Classifier is used to fit the learning model."
   ]
  },
  {
   "cell_type": "code",
   "execution_count": 100,
   "metadata": {},
   "outputs": [
    {
     "name": "stdout",
     "output_type": "stream",
     "text": [
      "\n",
      "Mean Prediction Peformance: \n",
      "Mean Accuracy:      0.521986599192188\n",
      "Mean Precision:     0.38151756737081405\n",
      "Mean Recall:        0.36871720004696673\n",
      "\n",
      "Mean Prediction Peformance: \n",
      "Mean Accuracy:      0.48911058815406133\n",
      "Mean Precision:     0.33174486971663963\n",
      "Mean Recall:        0.3721331550642236\n"
     ]
    },
    {
     "data": {
      "image/png": "[encoded data removed]",
      "text/plain": [
       "<matplotlib.figure.Figure at 0x1a18d6fda0>"
      ]
     },
     "metadata": {},
     "output_type": "display_data"
    },
    {
     "data": {
      "image/png": "[encoded data removed]",
      "text/plain": [
       "<matplotlib.figure.Figure at 0x10760de48>"
      ]
     },
     "metadata": {},
     "output_type": "display_data"
    }
   ],
   "source": [
    "nb_og = GaussianNB()\n",
    "prepare_and_execute_train_data(nb_og, train_x_original, train_y_original, 5)\n",
    "\n",
    "nb = GaussianNB()\n",
    "prepare_and_execute_train_data(nb, train_x_preprocessed, train_y_preprocessed, 5)"
   ]
  },
  {
   "cell_type": "markdown",
   "metadata": {},
   "source": [
    "##### Decision Tree Learning\n",
    "The Decision Tree Classifier model is used to fit the learning model."
   ]
  },
  {
   "cell_type": "code",
   "execution_count": 101,
   "metadata": {},
   "outputs": [
    {
     "name": "stdout",
     "output_type": "stream",
     "text": [
      "\n",
      "Mean Prediction Peformance: \n",
      "Mean Accuracy:      0.564861162625737\n",
      "Mean Precision:     0.44737505464868804\n",
      "Mean Recall:        0.4784814399753839\n"
     ]
    },
    {
     "data": {
      "image/png": "[encoded data removed]",
      "text/plain": [
       "<matplotlib.figure.Figure at 0x1a18407e48>"
      ]
     },
     "metadata": {},
     "output_type": "display_data"
    }
   ],
   "source": [
    "dtc = tree.DecisionTreeClassifier()\n",
    "prepare_and_execute_train_data(dtc, train_x_preprocessed, train_y_preprocessed, 5)"
   ]
  },
  {
   "cell_type": "markdown",
   "metadata": {},
   "source": [
    "##### k-Nearest Neighbor\n",
    "The KNN Classifier is used to fit the learning model"
   ]
  },
  {
   "cell_type": "code",
   "execution_count": 102,
   "metadata": {},
   "outputs": [
    {
     "name": "stdout",
     "output_type": "stream",
     "text": [
      "\n",
      "Mean Prediction Peformance: \n",
      "Mean Accuracy:      0.5684942919133166\n",
      "Mean Precision:     0.4359541804499448\n",
      "Mean Recall:        0.44316259967425803\n"
     ]
    },
    {
     "data": {
      "image/png": "[encoded data removed]",
      "text/plain": [
       "<matplotlib.figure.Figure at 0x1a17a7e320>"
      ]
     },
     "metadata": {},
     "output_type": "display_data"
    }
   ],
   "source": [
    "knn = KNeighborsClassifier()\n",
    "prepare_and_execute_train_data(knn, train_x_preprocessed, train_y_preprocessed, 5)"
   ]
  },
  {
   "cell_type": "markdown",
   "metadata": {},
   "source": [
    "##### Multi-layered Perceptron\n",
    "Here the MLP Classifier is used to fit the learning model."
   ]
  },
  {
   "cell_type": "code",
   "execution_count": 154,
   "metadata": {},
   "outputs": [
    {
     "name": "stdout",
     "output_type": "stream",
     "text": [
      "\n",
      "Mean Prediction Peformance: \n",
      "Mean Accuracy:      0.48689698842342705\n",
      "Mean Precision:     0.3618420043519776\n",
      "Mean Recall:        0.36011228922932903\n",
      "\n",
      "Mean Prediction Peformance: \n",
      "Mean Accuracy:      0.6079778264577371\n",
      "Mean Precision:     0.452998006888986\n",
      "Mean Recall:        0.4974517029961036\n"
     ]
    },
    {
     "data": {
      "image/png": "[encoded data removed]",
      "text/plain": [
       "<matplotlib.figure.Figure at 0x1a1970cbe0>"
      ]
     },
     "metadata": {},
     "output_type": "display_data"
    },
    {
     "data": {
      "image/png": "[encoded data removed]",
      "text/plain": [
       "<matplotlib.figure.Figure at 0x1a1e2d3668>"
      ]
     },
     "metadata": {},
     "output_type": "display_data"
    }
   ],
   "source": [
    "mlp_og = MLPClassifier(max_iter=1000)\n",
    "prepare_and_execute_train_data(mlp_og, train_x_original, train_y_original, 5)\n",
    "\n",
    "mlp = MLPClassifier(solver='lbfgs', alpha=1e-5, max_iter=2000,\n",
    "                    hidden_layer_sizes=(200, 80))\n",
    "prepare_and_execute_train_data(mlp, train_x_preprocessed, train_y_preprocessed, 5)"
   ]
  },
  {
   "cell_type": "markdown",
   "metadata": {},
   "source": [
    "## Model Finalization and Export\n",
    "---\n",
    "The model with the best prediction performance is chosen and exported as a Sklearn model for use in predicting (classifying) test data."
   ]
  },
  {
   "cell_type": "code",
   "execution_count": 70,
   "metadata": {},
   "outputs": [],
   "source": [
    "from sklearn.externals import joblib"
   ]
  },
  {
   "cell_type": "markdown",
   "metadata": {},
   "source": [
    "##### Choose the best-scored model\n",
    "The model with the best prediction performance is finalized and ready to be exported here."
   ]
  },
  {
   "cell_type": "code",
   "execution_count": null,
   "metadata": {},
   "outputs": [],
   "source": [
    "chosen_model = []\n",
    "chosen_model"
   ]
  },
  {
   "cell_type": "markdown",
   "metadata": {},
   "source": [
    "##### Export model to external file\n",
    "Here the finalized model is dumped into an external file using sklearn's joblib method. The exported model will be saved and can be used to predict the test data."
   ]
  },
  {
   "cell_type": "code",
   "execution_count": null,
   "metadata": {},
   "outputs": [],
   "source": [
    "joblib.dump(chosen_model, '../models/heart_disease.joblib', compress=1)"
   ]
  },
  {
   "cell_type": "code",
   "execution_count": null,
   "metadata": {},
   "outputs": [],
   "source": []
  }
 ],
 "metadata": {
  "kernelspec": {
   "display_name": "Python 3",
   "language": "python",
   "name": "python3"
  },
  "language_info": {
   "codemirror_mode": {
    "name": "ipython",
    "version": 3
   },
   "file_extension": ".py",
   "mimetype": "text/x-python",
   "name": "python",
   "nbconvert_exporter": "python",
   "pygments_lexer": "ipython3",
   "version": "3.6.4"
  }
 },
 "nbformat": 4,
 "nbformat_minor": 2
}
