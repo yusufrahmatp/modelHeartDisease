{
 "cells": [
  {
   "cell_type": "markdown",
   "metadata": {},
   "source": [
    "# Heart Disease Model\n",
    "---\n",
    "13516013 - Azka Nabilah Mumtaz <br>\n",
    "13516062 - Yusuf Rahmat Pratama<br>\n",
    "13516095 - Faza Fahleraz<br>\n",
    "13516101 - Kelvin Kristian<br>\n",
    "13516102 - Steven Sukma Limanus\n",
    "\n"
   ]
  },
  {
   "cell_type": "code",
   "execution_count": 1,
   "metadata": {},
   "outputs": [],
   "source": [
    "import pandas as pd\n",
    "import numpy as np"
   ]
  },
  {
   "cell_type": "markdown",
   "metadata": {},
   "source": [
    "## Data Preparation & Preprocessing\n",
    "---\n",
    "Training data for health disease is read using Pandas' `read_csv()` and `read_excel()` method, and is preprocessed as such to be ready to fit into the learning model.\n",
    "\n",
    "### Data information\n",
    "The description file is read here. The file describes each of the data's attributes and their respective domains. From the description, it can be seen that for the attributes in Column 2, Column 3, Column 6, Column 7, Column 9, Column 11, Column 12, and Column 13 has a discrete value range, and discrete values for other attributes. Column 14 contains the label for the data, therefore the most suitable learning method is Supervised Learning."
   ]
  },
  {
   "cell_type": "code",
   "execution_count": 2,
   "metadata": {},
   "outputs": [],
   "source": [
    "# data_info = pd.read_excel('../data/description.xlsx', header=1)\n",
    "# data_info.fillna('-', inplace=True)\n",
    "# data_info"
   ]
  },
  {
   "cell_type": "markdown",
   "metadata": {},
   "source": [
    "### Load data\n",
    "Training data are read and the data are split between features and labels. The resulting data read are 13 columns as attributes and 1 column as label. A total of 779 rows are read."
   ]
  },
  {
   "cell_type": "code",
   "execution_count": 3,
   "metadata": {},
   "outputs": [
    {
     "data": {
      "text/html": [
       "<div>\n",
       "<style scoped>\n",
       "    .dataframe tbody tr th:only-of-type {\n",
       "        vertical-align: middle;\n",
       "    }\n",
       "\n",
       "    .dataframe tbody tr th {\n",
       "        vertical-align: top;\n",
       "    }\n",
       "\n",
       "    .dataframe thead th {\n",
       "        text-align: right;\n",
       "    }\n",
       "</style>\n",
       "<table border=\"1\" class=\"dataframe\">\n",
       "  <thead>\n",
       "    <tr style=\"text-align: right;\">\n",
       "      <th></th>\n",
       "      <th>age</th>\n",
       "      <th>sex</th>\n",
       "      <th>chest_pain_type</th>\n",
       "      <th>rest_blood_pressure</th>\n",
       "      <th>serum_cholestrol</th>\n",
       "      <th>high_fasting_blood_sugar</th>\n",
       "      <th>resting_ecg</th>\n",
       "      <th>max_heart_rate</th>\n",
       "      <th>exercise_induced_angina</th>\n",
       "      <th>st_depression</th>\n",
       "      <th>peak_exercise_st</th>\n",
       "      <th>major_vessels_num</th>\n",
       "      <th>thal</th>\n",
       "    </tr>\n",
       "  </thead>\n",
       "  <tbody>\n",
       "    <tr>\n",
       "      <th>0</th>\n",
       "      <td>54</td>\n",
       "      <td>1</td>\n",
       "      <td>4</td>\n",
       "      <td>125</td>\n",
       "      <td>216</td>\n",
       "      <td>0</td>\n",
       "      <td>0</td>\n",
       "      <td>140</td>\n",
       "      <td>0</td>\n",
       "      <td>0</td>\n",
       "      <td>?</td>\n",
       "      <td>?</td>\n",
       "      <td>?</td>\n",
       "    </tr>\n",
       "    <tr>\n",
       "      <th>1</th>\n",
       "      <td>55</td>\n",
       "      <td>1</td>\n",
       "      <td>4</td>\n",
       "      <td>158</td>\n",
       "      <td>217</td>\n",
       "      <td>0</td>\n",
       "      <td>0</td>\n",
       "      <td>110</td>\n",
       "      <td>1</td>\n",
       "      <td>2.5</td>\n",
       "      <td>2</td>\n",
       "      <td>?</td>\n",
       "      <td>?</td>\n",
       "    </tr>\n",
       "    <tr>\n",
       "      <th>2</th>\n",
       "      <td>54</td>\n",
       "      <td>0</td>\n",
       "      <td>3</td>\n",
       "      <td>135</td>\n",
       "      <td>304</td>\n",
       "      <td>1</td>\n",
       "      <td>0</td>\n",
       "      <td>170</td>\n",
       "      <td>0</td>\n",
       "      <td>0</td>\n",
       "      <td>1</td>\n",
       "      <td>0</td>\n",
       "      <td>3</td>\n",
       "    </tr>\n",
       "    <tr>\n",
       "      <th>3</th>\n",
       "      <td>48</td>\n",
       "      <td>0</td>\n",
       "      <td>3</td>\n",
       "      <td>120</td>\n",
       "      <td>195</td>\n",
       "      <td>0</td>\n",
       "      <td>0</td>\n",
       "      <td>125</td>\n",
       "      <td>0</td>\n",
       "      <td>0</td>\n",
       "      <td>?</td>\n",
       "      <td>?</td>\n",
       "      <td>?</td>\n",
       "    </tr>\n",
       "    <tr>\n",
       "      <th>4</th>\n",
       "      <td>50</td>\n",
       "      <td>1</td>\n",
       "      <td>4</td>\n",
       "      <td>120</td>\n",
       "      <td>0</td>\n",
       "      <td>0</td>\n",
       "      <td>1</td>\n",
       "      <td>156</td>\n",
       "      <td>1</td>\n",
       "      <td>0</td>\n",
       "      <td>1</td>\n",
       "      <td>?</td>\n",
       "      <td>6</td>\n",
       "    </tr>\n",
       "  </tbody>\n",
       "</table>\n",
       "</div>"
      ],
      "text/plain": [
       "   age  sex  chest_pain_type rest_blood_pressure serum_cholestrol  \\\n",
       "0   54    1                4                 125              216   \n",
       "1   55    1                4                 158              217   \n",
       "2   54    0                3                 135              304   \n",
       "3   48    0                3                 120              195   \n",
       "4   50    1                4                 120                0   \n",
       "\n",
       "  high_fasting_blood_sugar resting_ecg max_heart_rate exercise_induced_angina  \\\n",
       "0                        0           0            140                       0   \n",
       "1                        0           0            110                       1   \n",
       "2                        1           0            170                       0   \n",
       "3                        0           0            125                       0   \n",
       "4                        0           1            156                       1   \n",
       "\n",
       "  st_depression peak_exercise_st major_vessels_num thal  \n",
       "0             0                ?                 ?    ?  \n",
       "1           2.5                2                 ?    ?  \n",
       "2             0                1                 0    3  \n",
       "3             0                ?                 ?    ?  \n",
       "4             0                1                 ?    6  "
      ]
     },
     "execution_count": 3,
     "metadata": {},
     "output_type": "execute_result"
    }
   ],
   "source": [
    "train = pd.read_csv('../data/tubes2_HeartDisease_train.csv')\n",
    "train.columns = ['age', 'sex', 'chest_pain_type', 'rest_blood_pressure', 'serum_cholestrol', \n",
    "                 'high_fasting_blood_sugar', 'resting_ecg', 'max_heart_rate', 'exercise_induced_angina',\n",
    "                 'st_depression', 'peak_exercise_st', 'major_vessels_num', 'thal', 'diagnosis']\n",
    "train_x = train.iloc[:, :13]\n",
    "train_y = train.iloc[:, 13:]\n",
    "\n",
    "train_x.head()"
   ]
  },
  {
   "cell_type": "markdown",
   "metadata": {},
   "source": [
    "### Preprocessing\n",
    "\n",
    "#### Handle missing values\n",
    "Some data contain unknown value in some of their attributes, therefore needed to be processed. \n",
    "\n",
    "The string '?' that represents the unknown value is replaced with NaN to make data uniformly numeric, and all data are cast into float to process NaN as well (NaN is represented as float in Numpy). "
   ]
  },
  {
   "cell_type": "code",
   "execution_count": 4,
   "metadata": {},
   "outputs": [],
   "source": [
    "train_x = train_x.replace('?', np.nan).astype(float)"
   ]
  },
  {
   "cell_type": "markdown",
   "metadata": {},
   "source": [
    "For now, mean of each attributes is used to input value to the unknown-valued data for the free-discrete attributes, and mode of each attributes is used for the ranged discrete attributes."
   ]
  },
  {
   "cell_type": "code",
   "execution_count": 5,
   "metadata": {},
   "outputs": [
    {
     "data": {
      "text/html": [
       "<div>\n",
       "<style scoped>\n",
       "    .dataframe tbody tr th:only-of-type {\n",
       "        vertical-align: middle;\n",
       "    }\n",
       "\n",
       "    .dataframe tbody tr th {\n",
       "        vertical-align: top;\n",
       "    }\n",
       "\n",
       "    .dataframe thead th {\n",
       "        text-align: right;\n",
       "    }\n",
       "</style>\n",
       "<table border=\"1\" class=\"dataframe\">\n",
       "  <thead>\n",
       "    <tr style=\"text-align: right;\">\n",
       "      <th></th>\n",
       "      <th>age</th>\n",
       "      <th>sex</th>\n",
       "      <th>chest_pain_type</th>\n",
       "      <th>rest_blood_pressure</th>\n",
       "      <th>serum_cholestrol</th>\n",
       "      <th>high_fasting_blood_sugar</th>\n",
       "      <th>resting_ecg</th>\n",
       "      <th>max_heart_rate</th>\n",
       "      <th>exercise_induced_angina</th>\n",
       "      <th>st_depression</th>\n",
       "      <th>peak_exercise_st</th>\n",
       "      <th>major_vessels_num</th>\n",
       "      <th>thal</th>\n",
       "    </tr>\n",
       "  </thead>\n",
       "  <tbody>\n",
       "    <tr>\n",
       "      <th>0</th>\n",
       "      <td>54.0</td>\n",
       "      <td>1.0</td>\n",
       "      <td>4.0</td>\n",
       "      <td>125.0</td>\n",
       "      <td>216.0</td>\n",
       "      <td>0.0</td>\n",
       "      <td>0.0</td>\n",
       "      <td>140.0</td>\n",
       "      <td>0.0</td>\n",
       "      <td>0.0</td>\n",
       "      <td>2.0</td>\n",
       "      <td>0.0</td>\n",
       "      <td>3.0</td>\n",
       "    </tr>\n",
       "    <tr>\n",
       "      <th>1</th>\n",
       "      <td>55.0</td>\n",
       "      <td>1.0</td>\n",
       "      <td>4.0</td>\n",
       "      <td>158.0</td>\n",
       "      <td>217.0</td>\n",
       "      <td>0.0</td>\n",
       "      <td>0.0</td>\n",
       "      <td>110.0</td>\n",
       "      <td>1.0</td>\n",
       "      <td>2.5</td>\n",
       "      <td>2.0</td>\n",
       "      <td>0.0</td>\n",
       "      <td>3.0</td>\n",
       "    </tr>\n",
       "    <tr>\n",
       "      <th>2</th>\n",
       "      <td>54.0</td>\n",
       "      <td>0.0</td>\n",
       "      <td>3.0</td>\n",
       "      <td>135.0</td>\n",
       "      <td>304.0</td>\n",
       "      <td>1.0</td>\n",
       "      <td>0.0</td>\n",
       "      <td>170.0</td>\n",
       "      <td>0.0</td>\n",
       "      <td>0.0</td>\n",
       "      <td>1.0</td>\n",
       "      <td>0.0</td>\n",
       "      <td>3.0</td>\n",
       "    </tr>\n",
       "    <tr>\n",
       "      <th>3</th>\n",
       "      <td>48.0</td>\n",
       "      <td>0.0</td>\n",
       "      <td>3.0</td>\n",
       "      <td>120.0</td>\n",
       "      <td>195.0</td>\n",
       "      <td>0.0</td>\n",
       "      <td>0.0</td>\n",
       "      <td>125.0</td>\n",
       "      <td>0.0</td>\n",
       "      <td>0.0</td>\n",
       "      <td>2.0</td>\n",
       "      <td>0.0</td>\n",
       "      <td>3.0</td>\n",
       "    </tr>\n",
       "    <tr>\n",
       "      <th>4</th>\n",
       "      <td>50.0</td>\n",
       "      <td>1.0</td>\n",
       "      <td>4.0</td>\n",
       "      <td>120.0</td>\n",
       "      <td>0.0</td>\n",
       "      <td>0.0</td>\n",
       "      <td>1.0</td>\n",
       "      <td>156.0</td>\n",
       "      <td>1.0</td>\n",
       "      <td>0.0</td>\n",
       "      <td>1.0</td>\n",
       "      <td>0.0</td>\n",
       "      <td>6.0</td>\n",
       "    </tr>\n",
       "  </tbody>\n",
       "</table>\n",
       "</div>"
      ],
      "text/plain": [
       "    age  sex chest_pain_type  rest_blood_pressure  serum_cholestrol  \\\n",
       "0  54.0  1.0             4.0                125.0             216.0   \n",
       "1  55.0  1.0             4.0                158.0             217.0   \n",
       "2  54.0  0.0             3.0                135.0             304.0   \n",
       "3  48.0  0.0             3.0                120.0             195.0   \n",
       "4  50.0  1.0             4.0                120.0               0.0   \n",
       "\n",
       "  high_fasting_blood_sugar resting_ecg  max_heart_rate  \\\n",
       "0                      0.0         0.0           140.0   \n",
       "1                      0.0         0.0           110.0   \n",
       "2                      1.0         0.0           170.0   \n",
       "3                      0.0         0.0           125.0   \n",
       "4                      0.0         1.0           156.0   \n",
       "\n",
       "  exercise_induced_angina  st_depression peak_exercise_st major_vessels_num  \\\n",
       "0                     0.0            0.0              2.0               0.0   \n",
       "1                     1.0            2.5              2.0               0.0   \n",
       "2                     0.0            0.0              1.0               0.0   \n",
       "3                     0.0            0.0              2.0               0.0   \n",
       "4                     1.0            0.0              1.0               0.0   \n",
       "\n",
       "  thal  \n",
       "0  3.0  \n",
       "1  3.0  \n",
       "2  3.0  \n",
       "3  3.0  \n",
       "4  6.0  "
      ]
     },
     "execution_count": 5,
     "metadata": {},
     "output_type": "execute_result"
    }
   ],
   "source": [
    "categorical_attributes = [\"sex\", \"chest_pain_type\", \"high_fasting_blood_sugar\", \"resting_ecg\", \"exercise_induced_angina\", \"peak_exercise_st\", \"major_vessels_num\", \"thal\"]\n",
    "series_attributes = [\"age\", \"rest_blood_pressure\", \"serum_cholestrol\", \"max_heart_rate\", \"st_depression\"]\n",
    "\n",
    "train_x[categorical_attributes] = train_x[categorical_attributes].fillna(train_x.mode().iloc[0])\n",
    "train_x[series_attributes] = train_x[series_attributes].fillna(train_x.mean())\n",
    "train_x[categorical_attributes] = train_x[categorical_attributes].astype('category')\n",
    "\n",
    "train_x_original = train_x.copy()\n",
    "train_y_original = train_y.copy()\n",
    "\n",
    "train_x.head()"
   ]
  },
  {
   "cell_type": "markdown",
   "metadata": {},
   "source": [
    "#### Drop columns with lots of missing values\n",
    "\n",
    "Feature columns with a high number of missing values are dropped to ease the model's learning."
   ]
  },
  {
   "cell_type": "code",
   "execution_count": 6,
   "metadata": {},
   "outputs": [
    {
     "data": {
      "text/html": [
       "<div>\n",
       "<style scoped>\n",
       "    .dataframe tbody tr th:only-of-type {\n",
       "        vertical-align: middle;\n",
       "    }\n",
       "\n",
       "    .dataframe tbody tr th {\n",
       "        vertical-align: top;\n",
       "    }\n",
       "\n",
       "    .dataframe thead th {\n",
       "        text-align: right;\n",
       "    }\n",
       "</style>\n",
       "<table border=\"1\" class=\"dataframe\">\n",
       "  <thead>\n",
       "    <tr style=\"text-align: right;\">\n",
       "      <th></th>\n",
       "      <th>age</th>\n",
       "      <th>sex</th>\n",
       "      <th>chest_pain_type</th>\n",
       "      <th>rest_blood_pressure</th>\n",
       "      <th>serum_cholestrol</th>\n",
       "      <th>high_fasting_blood_sugar</th>\n",
       "      <th>resting_ecg</th>\n",
       "      <th>max_heart_rate</th>\n",
       "      <th>exercise_induced_angina</th>\n",
       "      <th>st_depression</th>\n",
       "      <th>peak_exercise_st</th>\n",
       "    </tr>\n",
       "  </thead>\n",
       "  <tbody>\n",
       "    <tr>\n",
       "      <th>0</th>\n",
       "      <td>54.0</td>\n",
       "      <td>1.0</td>\n",
       "      <td>4.0</td>\n",
       "      <td>125.0</td>\n",
       "      <td>216.0</td>\n",
       "      <td>0.0</td>\n",
       "      <td>0.0</td>\n",
       "      <td>140.0</td>\n",
       "      <td>0.0</td>\n",
       "      <td>0.0</td>\n",
       "      <td>2.0</td>\n",
       "    </tr>\n",
       "    <tr>\n",
       "      <th>1</th>\n",
       "      <td>55.0</td>\n",
       "      <td>1.0</td>\n",
       "      <td>4.0</td>\n",
       "      <td>158.0</td>\n",
       "      <td>217.0</td>\n",
       "      <td>0.0</td>\n",
       "      <td>0.0</td>\n",
       "      <td>110.0</td>\n",
       "      <td>1.0</td>\n",
       "      <td>2.5</td>\n",
       "      <td>2.0</td>\n",
       "    </tr>\n",
       "    <tr>\n",
       "      <th>2</th>\n",
       "      <td>54.0</td>\n",
       "      <td>0.0</td>\n",
       "      <td>3.0</td>\n",
       "      <td>135.0</td>\n",
       "      <td>304.0</td>\n",
       "      <td>1.0</td>\n",
       "      <td>0.0</td>\n",
       "      <td>170.0</td>\n",
       "      <td>0.0</td>\n",
       "      <td>0.0</td>\n",
       "      <td>1.0</td>\n",
       "    </tr>\n",
       "    <tr>\n",
       "      <th>3</th>\n",
       "      <td>48.0</td>\n",
       "      <td>0.0</td>\n",
       "      <td>3.0</td>\n",
       "      <td>120.0</td>\n",
       "      <td>195.0</td>\n",
       "      <td>0.0</td>\n",
       "      <td>0.0</td>\n",
       "      <td>125.0</td>\n",
       "      <td>0.0</td>\n",
       "      <td>0.0</td>\n",
       "      <td>2.0</td>\n",
       "    </tr>\n",
       "    <tr>\n",
       "      <th>4</th>\n",
       "      <td>50.0</td>\n",
       "      <td>1.0</td>\n",
       "      <td>4.0</td>\n",
       "      <td>120.0</td>\n",
       "      <td>0.0</td>\n",
       "      <td>0.0</td>\n",
       "      <td>1.0</td>\n",
       "      <td>156.0</td>\n",
       "      <td>1.0</td>\n",
       "      <td>0.0</td>\n",
       "      <td>1.0</td>\n",
       "    </tr>\n",
       "  </tbody>\n",
       "</table>\n",
       "</div>"
      ],
      "text/plain": [
       "    age  sex chest_pain_type  rest_blood_pressure  serum_cholestrol  \\\n",
       "0  54.0  1.0             4.0                125.0             216.0   \n",
       "1  55.0  1.0             4.0                158.0             217.0   \n",
       "2  54.0  0.0             3.0                135.0             304.0   \n",
       "3  48.0  0.0             3.0                120.0             195.0   \n",
       "4  50.0  1.0             4.0                120.0               0.0   \n",
       "\n",
       "  high_fasting_blood_sugar resting_ecg  max_heart_rate  \\\n",
       "0                      0.0         0.0           140.0   \n",
       "1                      0.0         0.0           110.0   \n",
       "2                      1.0         0.0           170.0   \n",
       "3                      0.0         0.0           125.0   \n",
       "4                      0.0         1.0           156.0   \n",
       "\n",
       "  exercise_induced_angina  st_depression peak_exercise_st  \n",
       "0                     0.0            0.0              2.0  \n",
       "1                     1.0            2.5              2.0  \n",
       "2                     0.0            0.0              1.0  \n",
       "3                     0.0            0.0              2.0  \n",
       "4                     1.0            0.0              1.0  "
      ]
     },
     "execution_count": 6,
     "metadata": {},
     "output_type": "execute_result"
    }
   ],
   "source": [
    "train_x = train_x.drop('thal', 1)\n",
    "train_x = train_x.drop('major_vessels_num', 1)\n",
    "\n",
    "train_x.head()"
   ]
  },
  {
   "cell_type": "markdown",
   "metadata": {},
   "source": [
    "#### Use One-Hot Encoding for Categorical Data"
   ]
  },
  {
   "cell_type": "code",
   "execution_count": 7,
   "metadata": {},
   "outputs": [
    {
     "data": {
      "text/html": [
       "<div>\n",
       "<style scoped>\n",
       "    .dataframe tbody tr th:only-of-type {\n",
       "        vertical-align: middle;\n",
       "    }\n",
       "\n",
       "    .dataframe tbody tr th {\n",
       "        vertical-align: top;\n",
       "    }\n",
       "\n",
       "    .dataframe thead th {\n",
       "        text-align: right;\n",
       "    }\n",
       "</style>\n",
       "<table border=\"1\" class=\"dataframe\">\n",
       "  <thead>\n",
       "    <tr style=\"text-align: right;\">\n",
       "      <th></th>\n",
       "      <th>age</th>\n",
       "      <th>rest_blood_pressure</th>\n",
       "      <th>serum_cholestrol</th>\n",
       "      <th>max_heart_rate</th>\n",
       "      <th>st_depression</th>\n",
       "      <th>sex_0.0</th>\n",
       "      <th>sex_1.0</th>\n",
       "      <th>chest_pain_type_1.0</th>\n",
       "      <th>chest_pain_type_2.0</th>\n",
       "      <th>chest_pain_type_3.0</th>\n",
       "      <th>...</th>\n",
       "      <th>high_fasting_blood_sugar_0.0</th>\n",
       "      <th>high_fasting_blood_sugar_1.0</th>\n",
       "      <th>resting_ecg_0.0</th>\n",
       "      <th>resting_ecg_1.0</th>\n",
       "      <th>resting_ecg_2.0</th>\n",
       "      <th>exercise_induced_angina_0.0</th>\n",
       "      <th>exercise_induced_angina_1.0</th>\n",
       "      <th>peak_exercise_st_1.0</th>\n",
       "      <th>peak_exercise_st_2.0</th>\n",
       "      <th>peak_exercise_st_3.0</th>\n",
       "    </tr>\n",
       "  </thead>\n",
       "  <tbody>\n",
       "    <tr>\n",
       "      <th>0</th>\n",
       "      <td>54.0</td>\n",
       "      <td>125.0</td>\n",
       "      <td>216.0</td>\n",
       "      <td>140.0</td>\n",
       "      <td>0.0</td>\n",
       "      <td>0</td>\n",
       "      <td>1</td>\n",
       "      <td>0</td>\n",
       "      <td>0</td>\n",
       "      <td>0</td>\n",
       "      <td>...</td>\n",
       "      <td>1</td>\n",
       "      <td>0</td>\n",
       "      <td>1</td>\n",
       "      <td>0</td>\n",
       "      <td>0</td>\n",
       "      <td>1</td>\n",
       "      <td>0</td>\n",
       "      <td>0</td>\n",
       "      <td>1</td>\n",
       "      <td>0</td>\n",
       "    </tr>\n",
       "    <tr>\n",
       "      <th>1</th>\n",
       "      <td>55.0</td>\n",
       "      <td>158.0</td>\n",
       "      <td>217.0</td>\n",
       "      <td>110.0</td>\n",
       "      <td>2.5</td>\n",
       "      <td>0</td>\n",
       "      <td>1</td>\n",
       "      <td>0</td>\n",
       "      <td>0</td>\n",
       "      <td>0</td>\n",
       "      <td>...</td>\n",
       "      <td>1</td>\n",
       "      <td>0</td>\n",
       "      <td>1</td>\n",
       "      <td>0</td>\n",
       "      <td>0</td>\n",
       "      <td>0</td>\n",
       "      <td>1</td>\n",
       "      <td>0</td>\n",
       "      <td>1</td>\n",
       "      <td>0</td>\n",
       "    </tr>\n",
       "    <tr>\n",
       "      <th>2</th>\n",
       "      <td>54.0</td>\n",
       "      <td>135.0</td>\n",
       "      <td>304.0</td>\n",
       "      <td>170.0</td>\n",
       "      <td>0.0</td>\n",
       "      <td>1</td>\n",
       "      <td>0</td>\n",
       "      <td>0</td>\n",
       "      <td>0</td>\n",
       "      <td>1</td>\n",
       "      <td>...</td>\n",
       "      <td>0</td>\n",
       "      <td>1</td>\n",
       "      <td>1</td>\n",
       "      <td>0</td>\n",
       "      <td>0</td>\n",
       "      <td>1</td>\n",
       "      <td>0</td>\n",
       "      <td>1</td>\n",
       "      <td>0</td>\n",
       "      <td>0</td>\n",
       "    </tr>\n",
       "    <tr>\n",
       "      <th>3</th>\n",
       "      <td>48.0</td>\n",
       "      <td>120.0</td>\n",
       "      <td>195.0</td>\n",
       "      <td>125.0</td>\n",
       "      <td>0.0</td>\n",
       "      <td>1</td>\n",
       "      <td>0</td>\n",
       "      <td>0</td>\n",
       "      <td>0</td>\n",
       "      <td>1</td>\n",
       "      <td>...</td>\n",
       "      <td>1</td>\n",
       "      <td>0</td>\n",
       "      <td>1</td>\n",
       "      <td>0</td>\n",
       "      <td>0</td>\n",
       "      <td>1</td>\n",
       "      <td>0</td>\n",
       "      <td>0</td>\n",
       "      <td>1</td>\n",
       "      <td>0</td>\n",
       "    </tr>\n",
       "    <tr>\n",
       "      <th>4</th>\n",
       "      <td>50.0</td>\n",
       "      <td>120.0</td>\n",
       "      <td>0.0</td>\n",
       "      <td>156.0</td>\n",
       "      <td>0.0</td>\n",
       "      <td>0</td>\n",
       "      <td>1</td>\n",
       "      <td>0</td>\n",
       "      <td>0</td>\n",
       "      <td>0</td>\n",
       "      <td>...</td>\n",
       "      <td>1</td>\n",
       "      <td>0</td>\n",
       "      <td>0</td>\n",
       "      <td>1</td>\n",
       "      <td>0</td>\n",
       "      <td>0</td>\n",
       "      <td>1</td>\n",
       "      <td>1</td>\n",
       "      <td>0</td>\n",
       "      <td>0</td>\n",
       "    </tr>\n",
       "  </tbody>\n",
       "</table>\n",
       "<p>5 rows × 21 columns</p>\n",
       "</div>"
      ],
      "text/plain": [
       "    age  rest_blood_pressure  serum_cholestrol  max_heart_rate  st_depression  \\\n",
       "0  54.0                125.0             216.0           140.0            0.0   \n",
       "1  55.0                158.0             217.0           110.0            2.5   \n",
       "2  54.0                135.0             304.0           170.0            0.0   \n",
       "3  48.0                120.0             195.0           125.0            0.0   \n",
       "4  50.0                120.0               0.0           156.0            0.0   \n",
       "\n",
       "   sex_0.0  sex_1.0  chest_pain_type_1.0  chest_pain_type_2.0  \\\n",
       "0        0        1                    0                    0   \n",
       "1        0        1                    0                    0   \n",
       "2        1        0                    0                    0   \n",
       "3        1        0                    0                    0   \n",
       "4        0        1                    0                    0   \n",
       "\n",
       "   chest_pain_type_3.0          ...           high_fasting_blood_sugar_0.0  \\\n",
       "0                    0          ...                                      1   \n",
       "1                    0          ...                                      1   \n",
       "2                    1          ...                                      0   \n",
       "3                    1          ...                                      1   \n",
       "4                    0          ...                                      1   \n",
       "\n",
       "   high_fasting_blood_sugar_1.0  resting_ecg_0.0  resting_ecg_1.0  \\\n",
       "0                             0                1                0   \n",
       "1                             0                1                0   \n",
       "2                             1                1                0   \n",
       "3                             0                1                0   \n",
       "4                             0                0                1   \n",
       "\n",
       "   resting_ecg_2.0  exercise_induced_angina_0.0  exercise_induced_angina_1.0  \\\n",
       "0                0                            1                            0   \n",
       "1                0                            0                            1   \n",
       "2                0                            1                            0   \n",
       "3                0                            1                            0   \n",
       "4                0                            0                            1   \n",
       "\n",
       "   peak_exercise_st_1.0  peak_exercise_st_2.0  peak_exercise_st_3.0  \n",
       "0                     0                     1                     0  \n",
       "1                     0                     1                     0  \n",
       "2                     1                     0                     0  \n",
       "3                     0                     1                     0  \n",
       "4                     1                     0                     0  \n",
       "\n",
       "[5 rows x 21 columns]"
      ]
     },
     "execution_count": 7,
     "metadata": {},
     "output_type": "execute_result"
    }
   ],
   "source": [
    "train_x = pd.get_dummies(train_x, prefix=[\n",
    "    \"sex\", \"chest_pain_type\", \"high_fasting_blood_sugar\", \"resting_ecg\", \n",
    "    \"exercise_induced_angina\", \"peak_exercise_st\"])\n",
    "\n",
    "# train_x = pd.get_dummies(train_x, prefix=[\n",
    "#     \"sex\", \"chest_pain_type\", \"high_fasting_blood_sugar\", \"resting_ecg\", \n",
    "#     \"exercise_induced_angina\", \"peak_exercise_st\", \"major_vessels_num\", \"thal\"])\n",
    "\n",
    "train_x.head()"
   ]
  },
  {
   "cell_type": "markdown",
   "metadata": {},
   "source": [
    "#### Oversampling\n",
    "\n",
    "Artificially increase the number of minority data by duplicating rows to get a more balanced dataset."
   ]
  },
  {
   "cell_type": "code",
   "execution_count": 8,
   "metadata": {},
   "outputs": [],
   "source": [
    "diag_2 = train_y['diagnosis'] == 2\n",
    "train_x_diag_2 = train_x[diag_2]\n",
    "train_y_diag_2 = train_y[diag_2]\n",
    "train_x_oversampled = train_x.append([train_x_diag_2] * 2, ignore_index=True)\n",
    "train_y_oversampled = train_y.append([train_y_diag_2] * 2, ignore_index=True)\n",
    "\n",
    "diag_3 = train_y['diagnosis'] == 3\n",
    "train_x_diag_3 = train_x[diag_3]\n",
    "train_y_diag_3 = train_y[diag_3]\n",
    "train_x_oversampled = train_x_oversampled.append([train_x_diag_3] * 2, ignore_index=True)\n",
    "train_y_oversampled = train_y_oversampled.append([train_y_diag_3] * 2, ignore_index=True)\n",
    "\n",
    "diag_4 = train_y['diagnosis'] == 4\n",
    "train_x_diag_4 = train_x[diag_4]\n",
    "train_y_diag_4 = train_y[diag_4]\n",
    "train_x_oversampled = train_x.append([train_x_diag_4] * 3, ignore_index=True)\n",
    "train_y_oversampled = train_y.append([train_y_diag_4] * 3, ignore_index=True)\n",
    "\n",
    "assert(train_x_oversampled.count()[0] == train_y_oversampled.count()[0])\n",
    "\n",
    "train_x_preprocessed = train_x_oversampled.copy()\n",
    "train_y_preprocessed = train_y_oversampled.copy()\n",
    "\n",
    "# train_x_preprocessed = train_x.copy()\n",
    "# train_y_preprocessed = train_y.copy()"
   ]
  },
  {
   "cell_type": "markdown",
   "metadata": {},
   "source": [
    "## Training Model\n",
    "---\n",
    "\n",
    "Here the training data is fitted into a model which will represent the hypothesis model of the learning method used. As the data is labelled discretely, classification models are suitable for the data. For this testing, we will use Native Bayesian, kNN (k-Nearest Neighbor), DTL (Decision Tree Learning), and MLP (Multi-layered Perceptron)."
   ]
  },
  {
   "cell_type": "code",
   "execution_count": 9,
   "metadata": {},
   "outputs": [],
   "source": [
    "import itertools\n",
    "import warnings\n",
    "import matplotlib.pyplot as plt\n",
    "\n",
    "from sklearn.naive_bayes import GaussianNB\n",
    "from sklearn import tree\n",
    "from sklearn.neighbors import KNeighborsClassifier\n",
    "from sklearn.neural_network import MLPClassifier\n",
    "from sklearn.model_selection import train_test_split\n",
    "from sklearn.metrics import confusion_matrix, accuracy_score, precision_score, recall_score\n",
    "from sklearn.base import clone\n",
    "from sklearn.model_selection import KFold\n",
    "\n",
    "warnings.filterwarnings('ignore')"
   ]
  },
  {
   "cell_type": "markdown",
   "metadata": {},
   "source": [
    "### Helpers"
   ]
  },
  {
   "cell_type": "code",
   "execution_count": 10,
   "metadata": {},
   "outputs": [],
   "source": [
    "def plot_confusion_matrix(cm, classes,\n",
    "                          normalize=False,\n",
    "                          title='Confusion matrix',\n",
    "                          cmap=plt.cm.Blues):\n",
    "    \"\"\"\n",
    "    This function prints and plots the confusion matrix.\n",
    "    Normalization can be applied by setting `normalize=True`.\n",
    "    \"\"\"\n",
    "    if normalize:\n",
    "        cm = cm.astype('float') / cm.sum(axis=1)[:, np.newaxis]\n",
    "\n",
    "    plt.imshow(cm, interpolation='nearest', cmap=cmap)\n",
    "    plt.title(title)\n",
    "    plt.colorbar()\n",
    "    tick_marks = np.arange(len(classes))\n",
    "    plt.xticks(tick_marks, classes, rotation=45)\n",
    "    plt.yticks(tick_marks, classes)\n",
    "\n",
    "    fmt = '.2f' if normalize else 'd'\n",
    "    thresh = cm.max() / 2.\n",
    "    for i, j in itertools.product(range(cm.shape[0]), range(cm.shape[1])):\n",
    "        plt.text(j, i, format(cm[i, j], fmt),\n",
    "                 horizontalalignment=\"center\",\n",
    "                 color=\"white\" if cm[i, j] > thresh else \"black\")\n",
    "\n",
    "    plt.ylabel('True label')\n",
    "    plt.xlabel('Predicted label')\n",
    "    plt.tight_layout()"
   ]
  },
  {
   "cell_type": "markdown",
   "metadata": {},
   "source": [
    "### Training Procedure\n",
    "For training data and measuring the model prediction performance, we use **100-Fold Cross Validation** testing schema, in which the training data is iterated 100 times, with each iteration splitting the data as testing data and training data, fitting the model with the training data and checking the prediction with the testing data "
   ]
  },
  {
   "cell_type": "code",
   "execution_count": 11,
   "metadata": {},
   "outputs": [],
   "source": [
    "def prepare_and_execute_train_data(model, X, y, n_split=100):\n",
    "    kf = KFold(n_splits = n_split)\n",
    "    \n",
    "    curr_model = clone(model)\n",
    "    \n",
    "    curr_fold = 1\n",
    "    accuracy_scores = []\n",
    "    precision_scores = []\n",
    "    recall_scores = []\n",
    "    total_confusion_matrix = None\n",
    "    \n",
    "    for train_index, test_index in kf.split(X, y):\n",
    "        X_train = np.array(X.ix[train_index])\n",
    "        X_test = np.array(X.ix[test_index])\n",
    "        y_train = np.array(y.ix[train_index])\n",
    "        y_test = np.array(y.ix[test_index])\n",
    "        \n",
    "        curr_model.fit(X_train, y_train)\n",
    "        \n",
    "        curr_prediction = curr_model.predict(X_test)\n",
    "        \n",
    "        curr_accuracy = accuracy_score(y_test, curr_prediction)\n",
    "        curr_precision = precision_score(y_test, curr_prediction, average='macro')\n",
    "        curr_recall = recall_score(y_test, curr_prediction, average='macro')\n",
    "        \n",
    "        if total_confusion_matrix is not None:\n",
    "            total_confusion_matrix += confusion_matrix(y_test, curr_prediction)\n",
    "        else:\n",
    "            total_confusion_matrix = confusion_matrix(y_test, curr_prediction)\n",
    "        \n",
    "        accuracy_scores.append(curr_accuracy)\n",
    "        precision_scores.append(curr_precision)\n",
    "        recall_scores.append(curr_recall)\n",
    "        \n",
    "        curr_fold += 1\n",
    "    \n",
    "    print('\\nMean Prediction Peformance: ')\n",
    "    print('Mean Accuracy:     ', np.mean(accuracy_scores))\n",
    "    print('Mean Precision:    ', np.mean(precision_scores))\n",
    "    print('Mean Recall:       ', np.mean(recall_scores))\n",
    "    plt.figure()\n",
    "    plot_confusion_matrix(total_confusion_matrix, classes=[0, 1, 2, 3, 4], normalize=True,\n",
    "            title='Normalized confusion matrix')\n",
    "    \n",
    "    model = curr_model"
   ]
  },
  {
   "cell_type": "markdown",
   "metadata": {},
   "source": [
    "##### Native Bayesian\n",
    "Here the Gaussian Native Bayesian Classifier is used to fit the learning model."
   ]
  },
  {
   "cell_type": "code",
   "execution_count": 12,
   "metadata": {},
   "outputs": [
    {
     "name": "stdout",
     "output_type": "stream",
     "text": [
      "\n",
      "Mean Prediction Peformance: \n",
      "Mean Accuracy:      0.5468982630272953\n",
      "Mean Precision:     0.34799892240935704\n",
      "Mean Recall:        0.3457177102350929\n",
      "\n",
      "Mean Prediction Peformance: \n",
      "Mean Accuracy:      0.4694604942568743\n",
      "Mean Precision:     0.31235708622808683\n",
      "Mean Recall:        0.38047303444838904\n"
     ]
    },
    {
     "data": {
      "image/png": "[encoded data removed]",
      "text/plain": [
       "<Figure size 432x288 with 2 Axes>"
      ]
     },
     "metadata": {},
     "output_type": "display_data"
    },
    {
     "data": {
      "image/png": "[encoded data removed]",
      "text/plain": [
       "<Figure size 432x288 with 2 Axes>"
      ]
     },
     "metadata": {},
     "output_type": "display_data"
    }
   ],
   "source": [
    "nb_og = GaussianNB()\n",
    "prepare_and_execute_train_data(nb_og, train_x_original, train_y_original, 5)\n",
    "\n",
    "nb = GaussianNB()\n",
    "prepare_and_execute_train_data(nb, train_x_preprocessed, train_y_preprocessed, 5)"
   ]
  },
  {
   "cell_type": "markdown",
   "metadata": {},
   "source": [
    "##### Decision Tree Learning\n",
    "The Decision Tree Classifier model is used to fit the learning model."
   ]
  },
  {
   "cell_type": "code",
   "execution_count": 13,
   "metadata": {},
   "outputs": [
    {
     "name": "stdout",
     "output_type": "stream",
     "text": [
      "\n",
      "Mean Prediction Peformance: \n",
      "Mean Accuracy:      0.5047894187260702\n",
      "Mean Precision:     0.4004174181223436\n",
      "Mean Recall:        0.4869259901028958\n"
     ]
    },
    {
     "data": {
      "image/png": "[encoded data removed]",
      "text/plain": [
       "<Figure size 432x288 with 2 Axes>"
      ]
     },
     "metadata": {},
     "output_type": "display_data"
    }
   ],
   "source": [
    "dtc = tree.DecisionTreeClassifier()\n",
    "prepare_and_execute_train_data(dtc, train_x_preprocessed, train_y_preprocessed, 5)"
   ]
  },
  {
   "cell_type": "markdown",
   "metadata": {},
   "source": [
    "##### k-Nearest Neighbor\n",
    "The KNN Classifier is used to fit the learning model"
   ]
  },
  {
   "cell_type": "code",
   "execution_count": 14,
   "metadata": {},
   "outputs": [
    {
     "name": "stdout",
     "output_type": "stream",
     "text": [
      "\n",
      "Mean Prediction Peformance: \n",
      "Mean Accuracy:      0.45032370344587536\n",
      "Mean Precision:     0.37178328254382165\n",
      "Mean Recall:        0.4207293186695485\n"
     ]
    },
    {
     "data": {
      "image/png": "[encoded data removed]",
      "text/plain": [
       "<Figure size 432x288 with 2 Axes>"
      ]
     },
     "metadata": {},
     "output_type": "display_data"
    }
   ],
   "source": [
    "knn = KNeighborsClassifier()\n",
    "prepare_and_execute_train_data(knn, train_x_preprocessed, train_y_preprocessed, 5)"
   ]
  },
  {
   "cell_type": "markdown",
   "metadata": {},
   "source": [
    "##### Multi-layered Perceptron\n",
    "Here the MLP Classifier is used to fit the learning model."
   ]
  },
  {
   "cell_type": "code",
   "execution_count": 15,
   "metadata": {},
   "outputs": [
    {
     "name": "stdout",
     "output_type": "stream",
     "text": [
      "\n",
      "Mean Prediction Peformance: \n",
      "Mean Accuracy:      0.47885856079404465\n",
      "Mean Precision:     0.3534344294520936\n",
      "Mean Recall:        0.31288638812548836\n",
      "\n",
      "Mean Prediction Peformance: \n",
      "Mean Accuracy:      0.5305673512008353\n",
      "Mean Precision:     0.4258382361238679\n",
      "Mean Recall:        0.4921859420429321\n"
     ]
    },
    {
     "data": {
      "image/png": "[encoded data removed]",
      "text/plain": [
       "<Figure size 432x288 with 2 Axes>"
      ]
     },
     "metadata": {},
     "output_type": "display_data"
    },
    {
     "data": {
      "image/png": "[encoded data removed]",
      "text/plain": [
       "<Figure size 432x288 with 2 Axes>"
      ]
     },
     "metadata": {},
     "output_type": "display_data"
    }
   ],
   "source": [
    "mlp_og = MLPClassifier(max_iter=1000)\n",
    "prepare_and_execute_train_data(mlp_og, train_x_original, train_y_original, 5)\n",
    "\n",
    "mlp = MLPClassifier(solver='lbfgs', alpha=1e-5, max_iter=2000,\n",
    "                    hidden_layer_sizes=(200, 80))\n",
    "prepare_and_execute_train_data(mlp, train_x_preprocessed, train_y_preprocessed, 5)"
   ]
  },
  {
   "cell_type": "markdown",
   "metadata": {},
   "source": [
    "## Model Finalization and Export\n",
    "---\n",
    "The model with the best prediction performance is chosen and exported as a Sklearn model for use in predicting (classifying) test data."
   ]
  },
  {
   "cell_type": "code",
   "execution_count": 16,
   "metadata": {},
   "outputs": [],
   "source": [
    "from sklearn.externals import joblib"
   ]
  },
  {
   "cell_type": "markdown",
   "metadata": {},
   "source": [
    "##### Choose the best-scored model\n",
    "The model with the best prediction performance is finalized and ready to be exported here."
   ]
  },
  {
   "cell_type": "code",
   "execution_count": null,
   "metadata": {},
   "outputs": [],
   "source": [
    "chosen_model = []\n",
    "chosen_model"
   ]
  },
  {
   "cell_type": "markdown",
   "metadata": {},
   "source": [
    "##### Export model to external file\n",
    "Here the finalized model is dumped into an external file using sklearn's joblib method. The exported model will be saved and can be used to predict the test data."
   ]
  },
  {
   "cell_type": "code",
   "execution_count": null,
   "metadata": {},
   "outputs": [],
   "source": [
    "joblib.dump(chosen_model, '../models/heart_disease.joblib', compress=1)"
   ]
  },
  {
   "cell_type": "code",
   "execution_count": null,
   "metadata": {},
   "outputs": [],
   "source": []
  }
 ],
 "metadata": {
  "kernelspec": {
   "display_name": "Python [conda env:seqlab]",
   "language": "python",
   "name": "conda-env-seqlab-py"
  },
  "language_info": {
   "codemirror_mode": {
    "name": "ipython",
    "version": 3
   },
   "file_extension": ".py",
   "mimetype": "text/x-python",
   "name": "python",
   "nbconvert_exporter": "python",
   "pygments_lexer": "ipython3",
   "version": "3.6.3"
  }
 },
 "nbformat": 4,
 "nbformat_minor": 2
}
